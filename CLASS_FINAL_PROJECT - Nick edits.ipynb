{
  "cells": [
    {
      "cell_type": "markdown",
      "metadata": {
        "colab_type": "text",
        "id": "view-in-github"
      },
      "source": [
        "<a href=\"https://colab.research.google.com/github/siddhartha201/CSC-752-Project/blob/main/.ipynb_checkpoints/CNN%20model%20on%20Medical%20Imaging-checkpoint.ipynb\" target=\"_parent\"><img src=\"https://colab.research.google.com/assets/colab-badge.svg\" alt=\"Open In Colab\"/></a>"
      ]
    },
    {
      "cell_type": "code",
      "execution_count": 1,
      "id": "fe6a55a0",
      "metadata": {
        "id": "fe6a55a0"
      },
      "outputs": [],
      "source": [
        "import pandas as pd\n",
        "import os\n",
        "import pandas as pd\n",
        "from sklearn.model_selection import train_test_split\n",
        "from tensorflow.keras.preprocessing.image import ImageDataGenerator\n",
        "\n",
        "from tensorflow.keras.models import Sequential\n",
        "from tensorflow.keras.layers import Conv2D, MaxPooling2D, Flatten, Dense, Dropout\n",
        "\n",
        "\n",
        "from tensorflow.keras.regularizers import l2\n",
        "from tensorflow.keras.callbacks import EarlyStopping\n",
        "from tensorflow.keras.metrics import AUC, TruePositives, TrueNegatives, FalsePositives, FalseNegatives\n"
      ]
    },
    {
      "cell_type": "code",
      "execution_count": null,
      "id": "TFGy3FpGjAvg",
      "metadata": {
        "id": "TFGy3FpGjAvg"
      },
      "outputs": [],
      "source": [
        "!git clone https://github.com/siddhartha201/CSC-752-Project.git\n"
      ]
    },
    {
      "cell_type": "code",
      "execution_count": null,
      "id": "vZ6yTbwjlvu3",
      "metadata": {
        "id": "vZ6yTbwjlvu3"
      },
      "outputs": [],
      "source": [
        "\n",
        "import os\n",
        "import shutil\n",
        "import math\n",
        "import pandas as pd\n",
        "\n",
        "# Define paths\n",
        "src_folder = 'BrEaST-Lesions_USG-images_and_masks'\n",
        "train_folder = 'BrEaST-Lesions_USG-images_and_masks/train'\n",
        "test_folder = 'BrEaST-Lesions_USG-images_and_masks/test'\n",
        "excel_file_path = 'BrEaST-Lesions-USG-clinical-data-Dec-15-2023.xlsx'\n",
        "\n",
        "# Read the Excel file\n",
        "df = pd.read_excel(excel_file_path)\n",
        "\n",
        "df['Classification'].unique()"
      ]
    },
    {
      "cell_type": "code",
      "execution_count": null,
      "id": "7L5E-FxfisuB",
      "metadata": {
        "id": "7L5E-FxfisuB"
      },
      "outputs": [],
      "source": [
        "df.iloc[40:47]"
      ]
    },
    {
      "cell_type": "code",
      "execution_count": null,
      "id": "YfA-rHbMCpwt",
      "metadata": {
        "id": "YfA-rHbMCpwt"
      },
      "outputs": [],
      "source": [
        "\n",
        "# Fill missing names in column 'C' based on their row index\n",
        "for index in df.index:\n",
        "    if pd.isna(df.at[index, 'Mask_tumor_filename']):  # Check if the value is NaN\n",
        "        # Generate the name pattern based on index\n",
        "        df.at[index, 'Mask_tumor_filename'] = f'case{index+1:03d}_tumor.png'\n",
        "\n",
        "# Extract image names and their corresponding classes\n",
        "image_names_b_train = df['Image_filename'][0:].tolist()  # Adjusting for zero-based index\n",
        "image_names_c_train = df['Mask_tumor_filename'][0:].tolist()  # Adjusting for zero-based index\n",
        "classes_train = df['Classification'][0:].replace('normal', 'benign').tolist()  # Treating 'normal' as 'benign'\n",
        "\n",
        "# Create a list for train images with desired pairing\n",
        "train_images = []\n",
        "\n",
        "# Loop through the classes and corresponding images from both columns\n",
        "for i in range(len(classes_train)):\n",
        "    # Pair the first column's image name with the class\n",
        "    train_images.append((image_names_b_train[i], classes_train[i]))\n",
        "    # Pair the second column's image name with the class\n",
        "    train_images.append((image_names_c_train[i], classes_train[i]))\n",
        "\n",
        "# Create directories for classes in both train and test folders\n",
        "os.makedirs(os.path.join(train_folder, 'malignant'), exist_ok=True)\n",
        "os.makedirs(os.path.join(train_folder, 'benign'), exist_ok=True)\n",
        "os.makedirs(os.path.join(test_folder, 'malignant'), exist_ok=True)\n",
        "os.makedirs(os.path.join(test_folder, 'benign'), exist_ok=True)\n",
        "\n",
        "# Shuffle and split into train and test datasets\n",
        "num_train_images = math.ceil(len(train_images) * 0.9)  # 90% for training\n",
        "train_images_split = train_images[:num_train_images]  # First 90% for training\n",
        "test_images = train_images[num_train_images:]  # Remaining for testing\n",
        "\n",
        "# Function to copy images to their respective class folders\n",
        "def copy_images(image_list, folder):\n",
        "    for img_name, label in image_list:\n",
        "        src_file = os.path.join(src_folder, img_name)\n",
        "        dst_folder = os.path.join(folder, label)\n",
        "        dst_file = os.path.join(dst_folder, img_name)\n",
        "\n",
        "        if os.path.isfile(src_file):  # Ensure the file exists before copying\n",
        "            shutil.copy(src_file, dst_file)\n",
        "\n",
        "# Copy images for training\n",
        "copy_images(train_images_split, train_folder)\n",
        "\n",
        "# Copy images for testing\n",
        "copy_images(test_images, test_folder)\n",
        "\n",
        "print(f\"Copied {len(train_images_split)} training images to {train_folder}\")\n",
        "print(f\"Copied {len(test_images)} testing images to {test_folder}\")\n",
        "\n"
      ]
    },
    {
      "cell_type": "code",
      "execution_count": null,
      "id": "mFX3q6L4j7QT",
      "metadata": {
        "id": "mFX3q6L4j7QT"
      },
      "outputs": [],
      "source": [
        "df.iloc[250:]"
      ]
    },
    {
      "cell_type": "code",
      "execution_count": null,
      "id": "r6qYLW4ESIWX",
      "metadata": {
        "id": "r6qYLW4ESIWX"
      },
      "outputs": [],
      "source": [
        "\n",
        "import os\n",
        "\n",
        "# Specify the directory path\n",
        "train_folder = '/content/CSC-752-Project/BrEaST-Lesions_USG-images_and_masks/train'\n",
        "\n",
        "# Count the number of files in the directory\n",
        "file_count = sum(len(files) for _, _, files in os.walk(train_folder))\n",
        "\n",
        "print(f\"Number of files in '{train_folder}': {file_count}\")\n"
      ]
    },
    {
      "cell_type": "code",
      "execution_count": null,
      "id": "5695d7f2",
      "metadata": {
        "id": "5695d7f2"
      },
      "outputs": [],
      "source": [
        "from tensorflow.keras.preprocessing.image import ImageDataGenerator\n",
        "\n",
        "# directory\n",
        "base_dir = \"BrEaST-Lesions_USG-images_and_masks\"\n",
        "\n",
        "# Training and testing\n",
        "train_dir = os.path.join(base_dir, 'train')\n",
        "test_dir = os.path.join(base_dir, 'test')\n",
        "\n",
        "# rescaling\n",
        "train_datagen = ImageDataGenerator(rescale=1/255, horizontal_flip=True)\n",
        "test_datagen = ImageDataGenerator(rescale=1/255)\n",
        "\n",
        "# Create a stream for training\n",
        "train_dataset = train_datagen.flow_from_directory(\n",
        "    directory=train_dir,\n",
        "    target_size=(256, 256),\n",
        "    batch_size=16,\n",
        "    class_mode='binary'\n",
        ")\n",
        "\n",
        "# Create a stream of images for testing\n",
        "test_dataset = test_datagen.flow_from_directory(\n",
        "    directory=test_dir,\n",
        "    target_size=(256, 256),\n",
        "    batch_size=16,\n",
        "    class_mode='binary'\n",
        ")\n"
      ]
    },
    {
      "cell_type": "code",
      "execution_count": null,
      "id": "3448b3b3",
      "metadata": {
        "colab": {
          "base_uri": "https://localhost:8080/",
          "height": 878
        },
        "id": "3448b3b3",
        "outputId": "13d5d748-d260-4979-c0cc-973da88e9e35"
      },
      "outputs": [],
      "source": [
        "# Initialize the model\n",
        "model = Sequential()\n",
        "\n",
        "# Add regularization to the convolutional layers and include dropout layers\n",
        "model.add(Conv2D(32, (5,5), activation='relu', padding='same', input_shape=(256,256,3), kernel_regularizer=l2(0.001)))\n",
        "model.add(MaxPooling2D(3, 3))\n",
        "\n",
        "model.add(Conv2D(64, (3,3), activation='relu', padding='same', kernel_regularizer=l2(0.001)))\n",
        "model.add(MaxPooling2D(3, 3))\n",
        "model.add(Dropout(0.25))\n",
        "\n",
        "model.add(Conv2D(128, (3,3), activation='relu', padding='same', kernel_regularizer=l2(0.001)))\n",
        "model.add(MaxPooling2D(3, 3))\n",
        "model.add(Dropout(0.25))\n",
        "\n",
        "\n",
        "model.add(Flatten())\n",
        "\n",
        "model.add(Dense(128, activation='relu', kernel_regularizer=l2(0.001)))\n",
        "model.add(Dropout(0.5))  # Add dropout after the dense layer\n",
        "\n",
        "# Output layer\n",
        "model.add(Dense(1, activation='sigmoid'))\n",
        "\n",
        "# Compile the model\n",
        "model.compile(optimizer='adam', loss='binary_crossentropy',\n",
        "              metrics=['accuracy', AUC(), TruePositives(), TrueNegatives(), FalsePositives(), FalseNegatives()])\n",
        "\n",
        "# Model summary\n",
        "model.summary()\n",
        "\n",
        "# Add EarlyStopping when the validation loss starts increasing\n",
        "early_stopping = EarlyStopping(monitor='val_loss', patience=60, restore_best_weights=True)\n",
        "\n",
        "# Train the model\n",
        "history = model.fit(\n",
        "    train_dataset,\n",
        "    steps_per_epoch=train_dataset.samples // train_dataset.batch_size,\n",
        "    epochs=100,\n",
        "    validation_data=test_dataset,\n",
        "    validation_steps=test_dataset.samples // test_dataset.batch_size,\n",
        "    callbacks=[early_stopping])\n"
      ]
    },
    {
      "cell_type": "code",
      "execution_count": null,
      "id": "818a3e80",
      "metadata": {
        "id": "818a3e80"
      },
      "outputs": [],
      "source": [
        "# Print final accuracy and loss\n",
        "final_train_accuracy = history.history['accuracy'][-1]\n",
        "final_train_loss = history.history['loss'][-1]\n",
        "final_val_accuracy = history.history['val_accuracy'][-1]\n",
        "final_val_loss = history.history['val_loss'][-1]\n",
        "\n",
        "print(f\"Final Training Accuracy: {final_train_accuracy}\")\n",
        "print(f\"Final Training Loss: {final_train_loss}\")\n",
        "print(f\"Final Validation Accuracy: {final_val_accuracy}\")\n",
        "print(f\"Final Validation Loss: {final_val_loss}\")\n"
      ]
    },
    {
      "cell_type": "code",
      "execution_count": null,
      "id": "41d82bff",
      "metadata": {
        "id": "41d82bff"
      },
      "outputs": [],
      "source": [
        "import matplotlib.pyplot as plt\n",
        "\n",
        "# Plot for accuracy\n",
        "plt.figure(figsize=(10, 5))\n",
        "plt.subplot(1, 2, 1)\n",
        "plt.plot(history.history['accuracy'], label='Training Accuracy')\n",
        "plt.plot(history.history['val_accuracy'], label='Validation Accuracy')\n",
        "plt.title('CNN Training and Validation Accuracy')\n",
        "plt.xlabel('Epoch')\n",
        "plt.ylabel('Accuracy')\n",
        "plt.legend()\n",
        "\n",
        "# Plot for loss\n",
        "plt.subplot(1, 2, 2)\n",
        "plt.plot(history.history['loss'], label='Training Loss')\n",
        "plt.plot(history.history['val_loss'], label='Validation Loss')\n",
        "plt.title('CNN Training and Validation Loss')\n",
        "plt.xlabel('Epoch')\n",
        "plt.ylabel('Loss')\n",
        "plt.legend()\n",
        "\n",
        "plt.tight_layout()\n",
        "plt.show()\n"
      ]
    },
    {
      "cell_type": "code",
      "execution_count": null,
      "id": "5022bdb1",
      "metadata": {},
      "outputs": [],
      "source": [
        "# Plot for accuracy\n",
        "plt.figure(figsize=(12, 5))\n",
        "plt.subplot(1, 2, 1)\n",
        "plt.plot(history.history['accuracy'], label='Training Accuracy')\n",
        "plt.plot(history.history['val_accuracy'], label='Validation Accuracy')\n",
        "plt.title('CNN Training and Validation Accuracy')\n",
        "plt.xlabel('Epoch')\n",
        "plt.ylabel('Accuracy')\n",
        "plt.legend()"
      ]
    },
    {
      "cell_type": "code",
      "execution_count": 12,
      "id": "2c4ee03b",
      "metadata": {
        "id": "2c4ee03b"
      },
      "outputs": [],
      "source": [
        "#model.save('C:/Users/alan/Medical Image Project/CNN model.h5')"
      ]
    },
    {
      "cell_type": "code",
      "execution_count": null,
      "id": "0602e3e9",
      "metadata": {
        "id": "0602e3e9"
      },
      "outputs": [],
      "source": []
    }
  ],
  "metadata": {
    "colab": {
      "include_colab_link": true,
      "provenance": []
    },
    "kernelspec": {
      "display_name": "csc-752-final-project",
      "language": "python",
      "name": "python3"
    },
    "language_info": {
      "codemirror_mode": {
        "name": "ipython",
        "version": 3
      },
      "file_extension": ".py",
      "mimetype": "text/x-python",
      "name": "python",
      "nbconvert_exporter": "python",
      "pygments_lexer": "ipython3",
      "version": "3.9.18"
    }
  },
  "nbformat": 4,
  "nbformat_minor": 5
}
