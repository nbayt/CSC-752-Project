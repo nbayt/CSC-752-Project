{
  "cells": [
    {
      "cell_type": "markdown",
      "metadata": {
        "id": "view-in-github",
        "colab_type": "text"
      },
      "source": [
        "<a href=\"https://colab.research.google.com/github/siddhartha201/CSC-752-Project/blob/main/Late_fusion.ipynb\" target=\"_parent\"><img src=\"https://colab.research.google.com/assets/colab-badge.svg\" alt=\"Open In Colab\"/></a>"
      ]
    },
    {
      "cell_type": "code",
      "execution_count": 4,
      "id": "612b1115",
      "metadata": {
        "id": "612b1115"
      },
      "outputs": [],
      "source": [
        "from tensorflow.keras.models import load_model\n",
        "import pandas as pd\n",
        "from sklearn.feature_extraction.text import TfidfVectorizer\n",
        "from sklearn.model_selection import train_test_split\n",
        "from sklearn.preprocessing import LabelEncoder\n",
        "import re\n",
        "import tensorflow as tf\n",
        "from tensorflow.keras.models import Sequential\n",
        "from tensorflow.keras.layers import Dense, Dropout\n",
        "from tensorflow.keras.optimizers import Adam\n",
        "import matplotlib.pyplot as plt\n"
      ]
    },
    {
      "cell_type": "code",
      "source": [
        "!git clone https://github.com/siddhartha201/CSC-752-Project"
      ],
      "metadata": {
        "id": "qt-xP_76Ju36",
        "outputId": "bf694d06-3eaf-45de-8820-4aec78e50941",
        "colab": {
          "base_uri": "https://localhost:8080/"
        }
      },
      "id": "qt-xP_76Ju36",
      "execution_count": 5,
      "outputs": [
        {
          "output_type": "stream",
          "name": "stdout",
          "text": [
            "fatal: destination path 'CSC-752-Project' already exists and is not an empty directory.\n"
          ]
        }
      ]
    },
    {
      "cell_type": "code",
      "execution_count": 6,
      "id": "e44070df",
      "metadata": {
        "id": "e44070df",
        "outputId": "ae19ebf0-30b7-4f79-a166-3b3316e2efae",
        "colab": {
          "base_uri": "https://localhost:8080/"
        }
      },
      "outputs": [
        {
          "output_type": "stream",
          "name": "stderr",
          "text": [
            "/usr/local/lib/python3.10/dist-packages/keras/src/layers/convolutional/base_conv.py:107: UserWarning: Do not pass an `input_shape`/`input_dim` argument to a layer. When using Sequential models, prefer using an `Input(shape)` object as the first layer in the model instead.\n",
            "  super().__init__(activity_regularizer=activity_regularizer, **kwargs)\n",
            "WARNING:absl:Compiled the loaded model, but the compiled metrics have yet to be built. `model.compile_metrics` will be empty until you train or evaluate the model.\n",
            "WARNING:absl:Error in loading the saved optimizer state. As a result, your model is starting with a freshly initialized optimizer.\n",
            "/usr/local/lib/python3.10/dist-packages/keras/src/layers/core/dense.py:87: UserWarning: Do not pass an `input_shape`/`input_dim` argument to a layer. When using Sequential models, prefer using an `Input(shape)` object as the first layer in the model instead.\n",
            "  super().__init__(activity_regularizer=activity_regularizer, **kwargs)\n",
            "WARNING:absl:Compiled the loaded model, but the compiled metrics have yet to be built. `model.compile_metrics` will be empty until you train or evaluate the model.\n",
            "WARNING:absl:Error in loading the saved optimizer state. As a result, your model is starting with a freshly initialized optimizer.\n"
          ]
        }
      ],
      "source": [
        "dir = '/content/CSC-752-Project'\n",
        "# Load your pre-trained models\n",
        "cnn_model = load_model(dir +'/CNN_model.h5')\n",
        "nlp_model = load_model(dir +'/NLP_model.h5')"
      ]
    },
    {
      "cell_type": "code",
      "execution_count": 9,
      "id": "0ac615c5",
      "metadata": {
        "id": "0ac615c5"
      },
      "outputs": [],
      "source": [
        "text_data = dir + \"//BrEaST-Lesions-USG-clinical-data-Dec-15-2023.xlsx\""
      ]
    },
    {
      "cell_type": "code",
      "execution_count": 10,
      "id": "c28c7d8f",
      "metadata": {
        "id": "c28c7d8f"
      },
      "outputs": [],
      "source": [
        "df = pd.read_excel(text_data)"
      ]
    },
    {
      "cell_type": "code",
      "execution_count": 13,
      "id": "52852cb0",
      "metadata": {
        "id": "52852cb0"
      },
      "outputs": [],
      "source": [
        "# Preprocessing\n",
        "columns_to_drop = [\"Image_filename\", \"Mask_tumor_filename\", \"Mask_other_filename\", \"Pixel_size\", \"Verification\", \"BIRADS\"]\n",
        "new_df = df.drop(columns=columns_to_drop)\n",
        "\n",
        "# Handling missing Age\n",
        "new_df_filtered = new_df[new_df['Age'] != 'not available']\n",
        "new_df_filtered.loc[:, 'Age'] = pd.to_numeric(new_df_filtered['Age'])\n",
        "age_mean_corrected = new_df_filtered['Age'].mean()\n",
        "\n",
        "# Convert 'Age' to float first, replace 'not available' with the mean age, and then cast to int\n",
        "new_df['Age'] = pd.to_numeric(new_df['Age'], errors='coerce')  # Convert all 'Age' values to numeric, turning errors into NaNs\n",
        "new_df['Age'] = new_df['Age'].fillna(age_mean_corrected)  # Fill NaN values (previous 'not available' entries) with the mean\n",
        "new_df['Age'] = new_df['Age'].astype(int)  # Now cast to integer\n",
        "\n",
        "# Drop rows where the 'Classification' column does not contain 'benign' or 'malignant'\n",
        "final_df = new_df[(new_df['Classification'] == 'benign') | (new_df['Classification'] == 'malignant')]\n",
        "\n",
        "# Separating labels and features\n",
        "label = final_df['Classification']\n",
        "final_df = final_df.drop('Classification', axis=1)\n"
      ]
    },
    {
      "cell_type": "code",
      "execution_count": 14,
      "id": "b17d3d14",
      "metadata": {
        "id": "b17d3d14"
      },
      "outputs": [],
      "source": [
        "# NLP feature extraction\n",
        "\n",
        "non_numerical_columns = [col for col in final_df.columns if final_df[col].dtype == 'object' and col not in ['CaseID', 'Age']]\n",
        "# TF-IDF Vectorizer\n",
        "tfidf_vectorizer = TfidfVectorizer(max_features=100, stop_words='english')\n",
        "\n",
        "for column in non_numerical_columns:\n",
        "    # Convert column to string\n",
        "    column_as_string = final_df[column].astype(str).fillna('')\n",
        "    tfidf_matrix = tfidf_vectorizer.fit_transform(column_as_string)\n",
        "\n",
        "    feature_names = [f\"{column}_{word}\" for word in tfidf_vectorizer.get_feature_names_out()]\n",
        "    tfidf_df = pd.DataFrame(tfidf_matrix.toarray(), columns=feature_names)\n",
        "\n",
        "    # Concatenate TF-IDF\n",
        "    if 'final_numerical_df' in locals():\n",
        "        final_numerical_df = pd.concat([final_numerical_df, tfidf_df], axis=1)\n",
        "    else:\n",
        "        final_numerical_df = tfidf_df.copy()\n",
        "\n",
        "\n",
        "final_numerical_df = pd.concat([final_df[['CaseID', 'Age']].reset_index(drop=True), final_numerical_df.reset_index(drop=True)], axis=1)"
      ]
    },
    {
      "cell_type": "code",
      "execution_count": 15,
      "id": "cad4bc3b",
      "metadata": {
        "id": "cad4bc3b",
        "outputId": "efca7f11-83a3-445c-d708-452055e70cec",
        "colab": {
          "base_uri": "https://localhost:8080/"
        }
      },
      "outputs": [
        {
          "output_type": "execute_result",
          "data": {
            "text/plain": [
              "((201, 156), (51, 156), (201,), (51,))"
            ]
          },
          "metadata": {},
          "execution_count": 15
        }
      ],
      "source": [
        "# split the data\n",
        "X = final_numerical_df\n",
        "\n",
        "encoder = LabelEncoder()\n",
        "y = encoder.fit_transform(label)\n",
        "\n",
        "# split the data\n",
        "X_train, X_test, y_train, y_test = train_test_split(X, y, test_size=0.2, random_state=42)\n",
        "\n",
        "X_train.shape, X_test.shape, y_train.shape, y_test.shape"
      ]
    },
    {
      "cell_type": "code",
      "execution_count": 16,
      "id": "59949f09",
      "metadata": {
        "id": "59949f09",
        "outputId": "446400e8-37c3-454e-be37-97da5a52b912",
        "colab": {
          "base_uri": "https://localhost:8080/",
          "height": 442
        }
      },
      "outputs": [
        {
          "output_type": "error",
          "ename": "ValueError",
          "evalue": "Exception encountered when calling Sequential.call().\n\n\u001b[1mInput 0 of layer \"dense_116\" is incompatible with the layer: expected axis -1 of input shape to have value 2809, but received input with shape (32, 156)\u001b[0m\n\nArguments received by Sequential.call():\n  • inputs=tf.Tensor(shape=(32, 156), dtype=float32)\n  • training=False\n  • mask=None",
          "traceback": [
            "\u001b[0;31m---------------------------------------------------------------------------\u001b[0m",
            "\u001b[0;31mValueError\u001b[0m                                Traceback (most recent call last)",
            "\u001b[0;32m<ipython-input-16-98c8e5acd1e7>\u001b[0m in \u001b[0;36m<cell line: 1>\u001b[0;34m()\u001b[0m\n\u001b[0;32m----> 1\u001b[0;31m \u001b[0mtext_predictions\u001b[0m \u001b[0;34m=\u001b[0m \u001b[0mnlp_model\u001b[0m\u001b[0;34m.\u001b[0m\u001b[0mpredict\u001b[0m\u001b[0;34m(\u001b[0m\u001b[0mX_test\u001b[0m\u001b[0;34m)\u001b[0m\u001b[0;34m\u001b[0m\u001b[0;34m\u001b[0m\u001b[0m\n\u001b[0m",
            "\u001b[0;32m/usr/local/lib/python3.10/dist-packages/keras/src/utils/traceback_utils.py\u001b[0m in \u001b[0;36merror_handler\u001b[0;34m(*args, **kwargs)\u001b[0m\n\u001b[1;32m    120\u001b[0m             \u001b[0;31m# To get the full stack trace, call:\u001b[0m\u001b[0;34m\u001b[0m\u001b[0;34m\u001b[0m\u001b[0m\n\u001b[1;32m    121\u001b[0m             \u001b[0;31m# `keras.config.disable_traceback_filtering()`\u001b[0m\u001b[0;34m\u001b[0m\u001b[0;34m\u001b[0m\u001b[0m\n\u001b[0;32m--> 122\u001b[0;31m             \u001b[0;32mraise\u001b[0m \u001b[0me\u001b[0m\u001b[0;34m.\u001b[0m\u001b[0mwith_traceback\u001b[0m\u001b[0;34m(\u001b[0m\u001b[0mfiltered_tb\u001b[0m\u001b[0;34m)\u001b[0m \u001b[0;32mfrom\u001b[0m \u001b[0;32mNone\u001b[0m\u001b[0;34m\u001b[0m\u001b[0;34m\u001b[0m\u001b[0m\n\u001b[0m\u001b[1;32m    123\u001b[0m         \u001b[0;32mfinally\u001b[0m\u001b[0;34m:\u001b[0m\u001b[0;34m\u001b[0m\u001b[0;34m\u001b[0m\u001b[0m\n\u001b[1;32m    124\u001b[0m             \u001b[0;32mdel\u001b[0m \u001b[0mfiltered_tb\u001b[0m\u001b[0;34m\u001b[0m\u001b[0;34m\u001b[0m\u001b[0m\n",
            "\u001b[0;32m/usr/local/lib/python3.10/dist-packages/keras/src/layers/input_spec.py\u001b[0m in \u001b[0;36massert_input_compatibility\u001b[0;34m(input_spec, inputs, layer_name)\u001b[0m\n\u001b[1;32m    225\u001b[0m                     \u001b[0;32mNone\u001b[0m\u001b[0;34m,\u001b[0m\u001b[0;34m\u001b[0m\u001b[0;34m\u001b[0m\u001b[0m\n\u001b[1;32m    226\u001b[0m                 }:\n\u001b[0;32m--> 227\u001b[0;31m                     raise ValueError(\n\u001b[0m\u001b[1;32m    228\u001b[0m                         \u001b[0;34mf'Input {input_index} of layer \"{layer_name}\" is '\u001b[0m\u001b[0;34m\u001b[0m\u001b[0;34m\u001b[0m\u001b[0m\n\u001b[1;32m    229\u001b[0m                         \u001b[0;34mf\"incompatible with the layer: expected axis {axis} \"\u001b[0m\u001b[0;34m\u001b[0m\u001b[0;34m\u001b[0m\u001b[0m\n",
            "\u001b[0;31mValueError\u001b[0m: Exception encountered when calling Sequential.call().\n\n\u001b[1mInput 0 of layer \"dense_116\" is incompatible with the layer: expected axis -1 of input shape to have value 2809, but received input with shape (32, 156)\u001b[0m\n\nArguments received by Sequential.call():\n  • inputs=tf.Tensor(shape=(32, 156), dtype=float32)\n  • training=False\n  • mask=None"
          ]
        }
      ],
      "source": [
        "text_predictions = nlp_model.predict(X_test)\n"
      ]
    },
    {
      "cell_type": "code",
      "execution_count": null,
      "id": "ae02bb62",
      "metadata": {
        "id": "ae02bb62"
      },
      "outputs": [],
      "source": []
    }
  ],
  "metadata": {
    "kernelspec": {
      "display_name": "Python 3 (ipykernel)",
      "language": "python",
      "name": "python3"
    },
    "language_info": {
      "codemirror_mode": {
        "name": "ipython",
        "version": 3
      },
      "file_extension": ".py",
      "mimetype": "text/x-python",
      "name": "python",
      "nbconvert_exporter": "python",
      "pygments_lexer": "ipython3",
      "version": "3.9.13"
    },
    "colab": {
      "provenance": [],
      "include_colab_link": true
    }
  },
  "nbformat": 4,
  "nbformat_minor": 5
}