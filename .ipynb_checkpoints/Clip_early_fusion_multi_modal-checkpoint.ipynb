{
  "cells": [
    {
      "cell_type": "markdown",
      "metadata": {
        "id": "view-in-github",
        "colab_type": "text"
      },
      "source": [
        "<a href=\"https://colab.research.google.com/github/siddhartha201/CSC-752-Project/blob/main/.ipynb_checkpoints/Clip_early_fusion_multi_modal-checkpoint.ipynb\" target=\"_parent\"><img src=\"https://colab.research.google.com/assets/colab-badge.svg\" alt=\"Open In Colab\"/></a>"
      ]
    },
    {
      "cell_type": "code",
      "execution_count": 22,
      "id": "19112a75",
      "metadata": {
        "id": "19112a75"
      },
      "outputs": [],
      "source": [
        "from transformers import CLIPProcessor, CLIPModel\n",
        "import pandas as pd\n",
        "from PIL import Image\n",
        "import os\n",
        "import torch\n",
        "from sklearn.preprocessing import LabelEncoder\n",
        "from sklearn.model_selection import train_test_split\n",
        "from tensorflow.keras.layers import Dropout, BatchNormalization\n",
        "\n",
        "import numpy as np\n",
        "from sklearn.metrics import accuracy_score\n",
        "from tensorflow.keras.models import Sequential\n",
        "from tensorflow.keras.layers import Dense\n",
        "import matplotlib.pyplot as plt\n"
      ]
    },
    {
      "cell_type": "code",
      "source": [
        "# Clone the GitHub repository\n",
        "!git clone https://github.com/siddhartha201/CSC-752-Project.git\n"
      ],
      "metadata": {
        "id": "-zTZDBie3lcT",
        "outputId": "6d54c021-6d36-4096-a981-171986d3894e",
        "colab": {
          "base_uri": "https://localhost:8080/"
        }
      },
      "id": "-zTZDBie3lcT",
      "execution_count": 23,
      "outputs": [
        {
          "output_type": "stream",
          "name": "stdout",
          "text": [
            "fatal: destination path 'CSC-752-Project' already exists and is not an empty directory.\n"
          ]
        }
      ]
    },
    {
      "cell_type": "code",
      "execution_count": 24,
      "id": "3691c3a2",
      "metadata": {
        "id": "3691c3a2"
      },
      "outputs": [],
      "source": [
        "file_path = \"/content/CSC-752-Project/BrEaST-Lesions-USG-clinical-data-Dec-15-2023.xlsx\"\n",
        "text_data = pd.read_excel(file_path)"
      ]
    },
    {
      "cell_type": "code",
      "execution_count": 25,
      "id": "c39446f1",
      "metadata": {
        "id": "c39446f1"
      },
      "outputs": [],
      "source": [
        "# Load the data from the Excel file\n",
        "file_path = \"/content/CSC-752-Project/BrEaST-Lesions-USG-clinical-data-Dec-15-2023.xlsx\"\n",
        "text_data = pd.read_excel(file_path)\n",
        "\n",
        "# Filter out rows with 'benign' or 'malignant' classifications and make a copy to avoid SettingWithCopyWarning\n",
        "filtered_text_data = text_data[(text_data['Classification'] == 'benign') | (text_data['Classification'] == 'malignant')].copy()\n",
        "\n",
        "# Identify the columns to combine\n",
        "text_columns = [\n",
        "    col for col in filtered_text_data.columns\n",
        "    if col not in ['Image_filename', 'Classification', \"Mask_tumor_filename\", \"Mask_other_filename\", \"Pixel_size\", \"Verification\", \"BIRADS\"]\n",
        "]\n",
        "\n",
        "# Combine the relevant columns into a single text field per case\n",
        "filtered_text_data['combined_text'] = filtered_text_data[text_columns].apply(lambda x: ' '.join(x.dropna().astype(str)), axis=1)\n"
      ]
    },
    {
      "cell_type": "code",
      "execution_count": 26,
      "id": "8eaf3519",
      "metadata": {
        "id": "8eaf3519",
        "outputId": "8718c72c-b82f-42c1-d708-b67855c25f8c",
        "colab": {
          "base_uri": "https://localhost:8080/"
        }
      },
      "outputs": [
        {
          "output_type": "stream",
          "name": "stderr",
          "text": [
            "/usr/local/lib/python3.10/dist-packages/transformers/tokenization_utils_base.py:1601: FutureWarning: `clean_up_tokenization_spaces` was not set. It will be set to `True` by default. This behavior will be depracted in transformers v4.45, and will be then set to `False` by default. For more details check this issue: https://github.com/huggingface/transformers/issues/31884\n",
            "  warnings.warn(\n"
          ]
        }
      ],
      "source": [
        "model_name = \"openai/clip-vit-base-patch32\"\n",
        "processor = CLIPProcessor.from_pretrained(model_name)\n",
        "model = CLIPModel.from_pretrained(model_name)\n",
        "\n",
        "text_inputs = processor(text=filtered_text_data[\"combined_text\"].tolist(), padding=True, truncation=True, return_tensors=\"pt\")\n"
      ]
    },
    {
      "cell_type": "code",
      "execution_count": null,
      "id": "c6a09be6",
      "metadata": {
        "id": "c6a09be6"
      },
      "outputs": [],
      "source": [
        "text_embeddings = model.get_text_features(**text_inputs)"
      ]
    },
    {
      "cell_type": "code",
      "execution_count": null,
      "id": "deece36d",
      "metadata": {
        "id": "deece36d"
      },
      "outputs": [],
      "source": [
        "# image feature extraction\n",
        "def get_image_embedding(image_path, processor, model):\n",
        "    # Load and process the image\n",
        "    image = Image.open(image_path).convert(\"RGB\")\n",
        "    inputs = processor(images=image, return_tensors=\"pt\")\n",
        "\n",
        "    # Generate embedding\n",
        "    with torch.no_grad():  # Ensure no gradients are calculated\n",
        "        image_embedding = model.get_image_features(**inputs)\n",
        "\n",
        "    return image_embedding\n"
      ]
    },
    {
      "cell_type": "code",
      "execution_count": null,
      "id": "70f1a7a5",
      "metadata": {
        "id": "70f1a7a5"
      },
      "outputs": [],
      "source": [
        "# Initialize an empty list to hold image embeddings\n",
        "image_embeddings = []\n",
        "\n",
        "# Base path for images\n",
        "base_path = \"/content/CSC-752-Project/BrEaST-Lesions_USG-images_and_masks\"\n",
        "\n",
        "# Loop through each row in the DataFrame\n",
        "for filename in filtered_text_data['Image_filename']:\n",
        "    image_path = os.path.join(base_path, filename)\n",
        "    embedding = get_image_embedding(image_path, processor, model)\n",
        "    image_embeddings.append(embedding)\n",
        "\n",
        "# Convert the list of embeddings into a tensor (or any format you prefer)\n",
        "image_embeddings_tensor = torch.stack(image_embeddings)\n"
      ]
    },
    {
      "cell_type": "code",
      "execution_count": null,
      "id": "67d167e5",
      "metadata": {
        "id": "67d167e5"
      },
      "outputs": [],
      "source": [
        "# convert both embedding into same demision\n",
        "image_embeddings_tensor = image_embeddings_tensor.squeeze(-1)  # Squeeze the last dimension if it's extraneous\n",
        "\n",
        "image_embeddings_tensor = image_embeddings_tensor.view(image_embeddings_tensor.shape[0], -1)  # Flatten to [number_of_samples, image_feature_size * some_other_dimension]\n",
        "\n",
        "# Now try concatenating again\n",
        "combined_embeddings = torch.cat((text_embeddings, image_embeddings_tensor), dim=1)\n",
        "print(text_embeddings.shape)\n",
        "print(image_embeddings_tensor.shape)"
      ]
    },
    {
      "cell_type": "code",
      "execution_count": null,
      "id": "fe4a964c",
      "metadata": {
        "id": "fe4a964c"
      },
      "outputs": [],
      "source": [
        "\n",
        "print(combined_embeddings.shape)"
      ]
    },
    {
      "cell_type": "code",
      "execution_count": null,
      "id": "d9b2cd10",
      "metadata": {
        "id": "d9b2cd10"
      },
      "outputs": [],
      "source": [
        "# add label\n",
        "labels = filtered_text_data['Classification'].values\n",
        "label_encoder = LabelEncoder()\n",
        "encoded_labels = label_encoder.fit_transform(labels)  # Converts labels to numerical format\n"
      ]
    },
    {
      "cell_type": "code",
      "execution_count": null,
      "id": "30e1d5fc",
      "metadata": {
        "id": "30e1d5fc"
      },
      "outputs": [],
      "source": [
        "# split the data\n",
        "\n",
        "# Convert it to a NumPy array\n",
        "X = combined_embeddings.detach().numpy()\n",
        "\n",
        "# Split the data\n",
        "X_train, X_test, y_train, y_test = train_test_split(X, encoded_labels, test_size=0.2, random_state=42)\n",
        "\n",
        "model = Sequential([\n",
        "    Dense(128, activation='relu', input_dim=X_train.shape[1]),\n",
        "    Dropout(0.2),                 # Dropout layer for regularization\n",
        "    Dense(64, activation='relu'),\n",
        "    BatchNormalization(),         # BatchNormalization layer for normalization\n",
        "    Dense(32, activation='relu'),\n",
        "    Dense(1, activation='sigmoid')\n",
        "])\n",
        "\n",
        "# Compile the model\n",
        "model.compile(optimizer='adam', loss='binary_crossentropy', metrics=['accuracy'])\n",
        "\n",
        "# Train the model with validation data\n",
        "history = model.fit(X_train, y_train, epochs=10, batch_size=32, validation_split=0.4, verbose=1)\n",
        "\n",
        "# Evaluate the model on the test set\n",
        "test_loss, test_accuracy = model.evaluate(X_test, y_test, verbose=1)\n",
        "\n",
        "print(f\"Test Loss: {test_loss}\\nTest Accuracy: {test_accuracy}\")"
      ]
    },
    {
      "cell_type": "code",
      "execution_count": null,
      "id": "3976211a",
      "metadata": {
        "id": "3976211a"
      },
      "outputs": [],
      "source": [
        "# Plot training and validation accuracy\n",
        "plt.plot(history.history['accuracy'], label='Training Accuracy')\n",
        "plt.plot(history.history['val_accuracy'], label='Validation Accuracy')\n",
        "plt.title('Model Training and Validation Accuracy')\n",
        "plt.ylabel('Accuracy')\n",
        "plt.xlabel('Epoch')\n",
        "plt.legend()\n",
        "plt.show()\n",
        "\n",
        "# Plot training and validation loss\n",
        "plt.plot(history.history['loss'], label='Training Loss')\n",
        "plt.plot(history.history['val_loss'], label='Validation Loss')\n",
        "plt.title('Model Training and Validation Loss')\n",
        "plt.ylabel('Loss')\n",
        "plt.xlabel('Epoch')\n",
        "plt.legend()\n",
        "plt.show()"
      ]
    },
    {
      "cell_type": "code",
      "execution_count": null,
      "id": "44974fa7",
      "metadata": {
        "id": "44974fa7"
      },
      "outputs": [],
      "source": []
    },
    {
      "cell_type": "code",
      "execution_count": null,
      "id": "efd19ce1",
      "metadata": {
        "id": "efd19ce1"
      },
      "outputs": [],
      "source": []
    },
    {
      "cell_type": "code",
      "execution_count": null,
      "id": "c4824bf8",
      "metadata": {
        "id": "c4824bf8"
      },
      "outputs": [],
      "source": []
    }
  ],
  "metadata": {
    "kernelspec": {
      "display_name": "Python 3 (ipykernel)",
      "language": "python",
      "name": "python3"
    },
    "language_info": {
      "codemirror_mode": {
        "name": "ipython",
        "version": 3
      },
      "file_extension": ".py",
      "mimetype": "text/x-python",
      "name": "python",
      "nbconvert_exporter": "python",
      "pygments_lexer": "ipython3",
      "version": "3.9.13"
    },
    "colab": {
      "provenance": [],
      "include_colab_link": true
    }
  },
  "nbformat": 4,
  "nbformat_minor": 5
}