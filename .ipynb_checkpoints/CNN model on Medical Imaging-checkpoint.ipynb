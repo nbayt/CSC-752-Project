{
  "cells": [
    {
      "cell_type": "markdown",
      "metadata": {
        "id": "view-in-github",
        "colab_type": "text"
      },
      "source": [
        "<a href=\"https://colab.research.google.com/github/siddhartha201/CSC-752-Project/blob/main/.ipynb_checkpoints/CNN%20model%20on%20Medical%20Imaging-checkpoint.ipynb\" target=\"_parent\"><img src=\"https://colab.research.google.com/assets/colab-badge.svg\" alt=\"Open In Colab\"/></a>"
      ]
    },
    {
      "cell_type": "code",
      "execution_count": 2,
      "id": "fe6a55a0",
      "metadata": {
        "id": "fe6a55a0"
      },
      "outputs": [],
      "source": [
        "import pandas as pd\n",
        "import os\n",
        "import pandas as pd\n",
        "from sklearn.model_selection import train_test_split\n",
        "from tensorflow.keras.preprocessing.image import ImageDataGenerator\n",
        "\n",
        "from tensorflow.keras.models import Sequential\n",
        "from tensorflow.keras.layers import Conv2D, MaxPooling2D, Flatten, Dense, Dropout\n",
        "\n",
        "\n",
        "from tensorflow.keras.regularizers import l2\n",
        "from tensorflow.keras.callbacks import EarlyStopping\n",
        "from tensorflow.keras.metrics import AUC, TruePositives, TrueNegatives, FalsePositives, FalseNegatives\n"
      ]
    },
    {
      "cell_type": "code",
      "source": [
        "!git clone https://github.com/siddhartha201/CSC-752-Project.git\n"
      ],
      "metadata": {
        "colab": {
          "base_uri": "https://localhost:8080/"
        },
        "id": "TFGy3FpGjAvg",
        "outputId": "e0fa9068-a913-428b-a58a-ab84619c37b2"
      },
      "id": "TFGy3FpGjAvg",
      "execution_count": 3,
      "outputs": [
        {
          "output_type": "stream",
          "name": "stdout",
          "text": [
            "Cloning into 'CSC-752-Project'...\n",
            "remote: Enumerating objects: 566, done.\u001b[K\n",
            "remote: Counting objects: 100% (16/16), done.\u001b[K\n",
            "remote: Compressing objects: 100% (15/15), done.\u001b[K\n",
            "remote: Total 566 (delta 7), reused 3 (delta 0), pack-reused 550 (from 1)\u001b[K\n",
            "Receiving objects: 100% (566/566), 154.64 MiB | 17.17 MiB/s, done.\n",
            "Resolving deltas: 100% (112/112), done.\n",
            "Updating files: 100% (556/556), done.\n"
          ]
        }
      ]
    },
    {
      "cell_type": "code",
      "source": [
        "\n",
        "import os\n",
        "import shutil\n",
        "import math\n",
        "import pandas as pd\n",
        "\n",
        "# Define paths\n",
        "src_folder = '/content/CSC-752-Project/BrEaST-Lesions_USG-images_and_masks'\n",
        "train_folder = '/content/CSC-752-Project/BrEaST-Lesions_USG-images_and_masks/train'\n",
        "test_folder = '/content/CSC-752-Project/BrEaST-Lesions_USG-images_and_masks/test'\n",
        "excel_file_path = '/content/CSC-752-Project/BrEaST-Lesions-USG-clinical-data-Dec-15-2023.xlsx'\n",
        "\n",
        "# Read the Excel file\n",
        "df = pd.read_excel(excel_file_path)\n",
        "df.tail()\n",
        "df['Classification'].unique()"
      ],
      "metadata": {
        "colab": {
          "base_uri": "https://localhost:8080/"
        },
        "id": "vZ6yTbwjlvu3",
        "outputId": "be423d92-3423-43d5-df05-cb20a77fa60b"
      },
      "id": "vZ6yTbwjlvu3",
      "execution_count": 17,
      "outputs": [
        {
          "output_type": "execute_result",
          "data": {
            "text/plain": [
              "array(['benign', 'malignant', 'normal'], dtype=object)"
            ]
          },
          "metadata": {},
          "execution_count": 17
        }
      ]
    },
    {
      "cell_type": "code",
      "source": [
        "\n",
        "# Fill missing names in column 'C' based on their row index\n",
        "for index in df.index:\n",
        "    if pd.isna(df.at[index, 'Mask_tumor_filename']):  # Check if the value is NaN\n",
        "        # Generate the name pattern based on index\n",
        "        df.at[index, 'Mask_tumor_filename'] = f'case{index:03d}_tumor.png'\n",
        "\n",
        "# Extract image names and their corresponding classes\n",
        "image_names_b_train = df['Image_filename'][0:].tolist()  # Adjusting for zero-based index\n",
        "image_names_c_train = df['Mask_tumor_filename'][0:].tolist()  # Adjusting for zero-based index\n",
        "classes_train = df['Classification'][0:].replace('normal', 'benign').tolist()  # Treating 'normal' as 'benign'\n",
        "\n",
        "# Create a list for train images with desired pairing\n",
        "train_images = []\n",
        "\n",
        "# Loop through the classes and corresponding images from both columns\n",
        "for i in range(len(classes_train)):\n",
        "    # Pair the first column's image name with the class\n",
        "    train_images.append((image_names_b_train[i], classes_train[i]))\n",
        "    # Pair the second column's image name with the class\n",
        "    train_images.append((image_names_c_train[i], classes_train[i]))\n",
        "\n",
        "# Create directories for classes in both train and test folders\n",
        "os.makedirs(os.path.join(train_folder, 'malignant'), exist_ok=True)\n",
        "os.makedirs(os.path.join(train_folder, 'benign'), exist_ok=True)\n",
        "os.makedirs(os.path.join(test_folder, 'malignant'), exist_ok=True)\n",
        "os.makedirs(os.path.join(test_folder, 'benign'), exist_ok=True)\n",
        "\n",
        "# Shuffle and split into train and test datasets\n",
        "num_train_images = math.ceil(len(train_images) * 0.9)  # 90% for training\n",
        "train_images_split = train_images[:num_train_images]  # First 90% for training\n",
        "test_images = train_images[num_train_images:]  # Remaining for testing\n",
        "\n",
        "# Function to copy images to their respective class folders\n",
        "def copy_images(image_list, folder):\n",
        "    for img_name, label in image_list:\n",
        "        src_file = os.path.join(src_folder, img_name)\n",
        "        dst_folder = os.path.join(folder, label)\n",
        "        dst_file = os.path.join(dst_folder, img_name)\n",
        "\n",
        "        if os.path.isfile(src_file):  # Ensure the file exists before copying\n",
        "            shutil.copy(src_file, dst_file)\n",
        "\n",
        "# Copy images for training\n",
        "copy_images(train_images_split, train_folder)\n",
        "\n",
        "# Copy images for testing\n",
        "copy_images(test_images, test_folder)\n",
        "\n",
        "print(f\"Copied {len(train_images_split)} training images to {train_folder}\")\n",
        "print(f\"Copied {len(test_images)} testing images to {test_folder}\")\n",
        "\n"
      ],
      "metadata": {
        "id": "YfA-rHbMCpwt",
        "outputId": "d7aed9c0-1438-4923-fbc5-a3e41ab37034",
        "colab": {
          "base_uri": "https://localhost:8080/"
        }
      },
      "id": "YfA-rHbMCpwt",
      "execution_count": 5,
      "outputs": [
        {
          "output_type": "stream",
          "name": "stdout",
          "text": [
            "Copied 461 training images to /content/CSC-752-Project/BrEaST-Lesions_USG-images_and_masks/train\n",
            "Copied 51 testing images to /content/CSC-752-Project/BrEaST-Lesions_USG-images_and_masks/test\n"
          ]
        }
      ]
    },
    {
      "cell_type": "code",
      "source": [
        "\n",
        "import os\n",
        "\n",
        "# Specify the directory path\n",
        "train_folder = '/content/CSC-752-Project/BrEaST-Lesions_USG-images_and_masks/train'\n",
        "\n",
        "# Count the number of files in the directory\n",
        "file_count = sum(len(files) for _, _, files in os.walk(train_folder))\n",
        "\n",
        "print(f\"Number of files in '{train_folder}': {file_count}\")\n"
      ],
      "metadata": {
        "id": "r6qYLW4ESIWX",
        "outputId": "e901e825-06cd-408f-a003-06b612667ce7",
        "colab": {
          "base_uri": "https://localhost:8080/"
        }
      },
      "id": "r6qYLW4ESIWX",
      "execution_count": 21,
      "outputs": [
        {
          "output_type": "stream",
          "name": "stdout",
          "text": [
            "Number of files in '/content/CSC-752-Project/BrEaST-Lesions_USG-images_and_masks/train/malignant': 168\n"
          ]
        }
      ]
    },
    {
      "cell_type": "code",
      "execution_count": 6,
      "id": "5695d7f2",
      "metadata": {
        "colab": {
          "base_uri": "https://localhost:8080/"
        },
        "id": "5695d7f2",
        "outputId": "7047ea7f-869c-412d-c98d-646b38a261c4"
      },
      "outputs": [
        {
          "output_type": "stream",
          "name": "stdout",
          "text": [
            "Found 459 images belonging to 2 classes.\n",
            "Found 51 images belonging to 2 classes.\n"
          ]
        }
      ],
      "source": [
        "from tensorflow.keras.preprocessing.image import ImageDataGenerator\n",
        "\n",
        "# directory\n",
        "base_dir = \"/content/CSC-752-Project/BrEaST-Lesions_USG-images_and_masks\"\n",
        "\n",
        "# Training and testing\n",
        "train_dir = os.path.join(base_dir, 'train')\n",
        "test_dir = os.path.join(base_dir, 'test')\n",
        "\n",
        "# rescaling\n",
        "train_datagen = ImageDataGenerator(rescale=1/255, horizontal_flip=True)\n",
        "test_datagen = ImageDataGenerator(rescale=1/255)\n",
        "\n",
        "# Create a stream for training\n",
        "train_dataset = train_datagen.flow_from_directory(\n",
        "    directory=train_dir,\n",
        "    target_size=(256, 256),\n",
        "    batch_size=8,\n",
        "    class_mode='binary'\n",
        ")\n",
        "\n",
        "# Create a stream of images for testing\n",
        "test_dataset = test_datagen.flow_from_directory(\n",
        "    directory=test_dir,\n",
        "    target_size=(256, 256),\n",
        "    batch_size=8,\n",
        "    class_mode='binary'\n",
        ")\n"
      ]
    },
    {
      "cell_type": "code",
      "execution_count": 7,
      "id": "3448b3b3",
      "metadata": {
        "id": "3448b3b3",
        "outputId": "8d1930c3-47ef-45c8-f1ca-841e10b8af9d",
        "colab": {
          "base_uri": "https://localhost:8080/",
          "height": 969
        }
      },
      "outputs": [
        {
          "output_type": "stream",
          "name": "stderr",
          "text": [
            "/usr/local/lib/python3.10/dist-packages/keras/src/layers/convolutional/base_conv.py:107: UserWarning: Do not pass an `input_shape`/`input_dim` argument to a layer. When using Sequential models, prefer using an `Input(shape)` object as the first layer in the model instead.\n",
            "  super().__init__(activity_regularizer=activity_regularizer, **kwargs)\n"
          ]
        },
        {
          "output_type": "display_data",
          "data": {
            "text/plain": [
              "\u001b[1mModel: \"sequential\"\u001b[0m\n"
            ],
            "text/html": [
              "<pre style=\"white-space:pre;overflow-x:auto;line-height:normal;font-family:Menlo,'DejaVu Sans Mono',consolas,'Courier New',monospace\"><span style=\"font-weight: bold\">Model: \"sequential\"</span>\n",
              "</pre>\n"
            ]
          },
          "metadata": {}
        },
        {
          "output_type": "display_data",
          "data": {
            "text/plain": [
              "┏━━━━━━━━━━━━━━━━━━━━━━━━━━━━━━━━━━━━━━┳━━━━━━━━━━━━━━━━━━━━━━━━━━━━━┳━━━━━━━━━━━━━━━━━┓\n",
              "┃\u001b[1m \u001b[0m\u001b[1mLayer (type)                        \u001b[0m\u001b[1m \u001b[0m┃\u001b[1m \u001b[0m\u001b[1mOutput Shape               \u001b[0m\u001b[1m \u001b[0m┃\u001b[1m \u001b[0m\u001b[1m        Param #\u001b[0m\u001b[1m \u001b[0m┃\n",
              "┡━━━━━━━━━━━━━━━━━━━━━━━━━━━━━━━━━━━━━━╇━━━━━━━━━━━━━━━━━━━━━━━━━━━━━╇━━━━━━━━━━━━━━━━━┩\n",
              "│ conv2d (\u001b[38;5;33mConv2D\u001b[0m)                      │ (\u001b[38;5;45mNone\u001b[0m, \u001b[38;5;34m256\u001b[0m, \u001b[38;5;34m256\u001b[0m, \u001b[38;5;34m32\u001b[0m)        │           \u001b[38;5;34m2,432\u001b[0m │\n",
              "├──────────────────────────────────────┼─────────────────────────────┼─────────────────┤\n",
              "│ max_pooling2d (\u001b[38;5;33mMaxPooling2D\u001b[0m)         │ (\u001b[38;5;45mNone\u001b[0m, \u001b[38;5;34m85\u001b[0m, \u001b[38;5;34m85\u001b[0m, \u001b[38;5;34m32\u001b[0m)          │               \u001b[38;5;34m0\u001b[0m │\n",
              "├──────────────────────────────────────┼─────────────────────────────┼─────────────────┤\n",
              "│ conv2d_1 (\u001b[38;5;33mConv2D\u001b[0m)                    │ (\u001b[38;5;45mNone\u001b[0m, \u001b[38;5;34m85\u001b[0m, \u001b[38;5;34m85\u001b[0m, \u001b[38;5;34m64\u001b[0m)          │          \u001b[38;5;34m18,496\u001b[0m │\n",
              "├──────────────────────────────────────┼─────────────────────────────┼─────────────────┤\n",
              "│ max_pooling2d_1 (\u001b[38;5;33mMaxPooling2D\u001b[0m)       │ (\u001b[38;5;45mNone\u001b[0m, \u001b[38;5;34m28\u001b[0m, \u001b[38;5;34m28\u001b[0m, \u001b[38;5;34m64\u001b[0m)          │               \u001b[38;5;34m0\u001b[0m │\n",
              "├──────────────────────────────────────┼─────────────────────────────┼─────────────────┤\n",
              "│ dropout (\u001b[38;5;33mDropout\u001b[0m)                    │ (\u001b[38;5;45mNone\u001b[0m, \u001b[38;5;34m28\u001b[0m, \u001b[38;5;34m28\u001b[0m, \u001b[38;5;34m64\u001b[0m)          │               \u001b[38;5;34m0\u001b[0m │\n",
              "├──────────────────────────────────────┼─────────────────────────────┼─────────────────┤\n",
              "│ conv2d_2 (\u001b[38;5;33mConv2D\u001b[0m)                    │ (\u001b[38;5;45mNone\u001b[0m, \u001b[38;5;34m28\u001b[0m, \u001b[38;5;34m28\u001b[0m, \u001b[38;5;34m128\u001b[0m)         │          \u001b[38;5;34m73,856\u001b[0m │\n",
              "├──────────────────────────────────────┼─────────────────────────────┼─────────────────┤\n",
              "│ max_pooling2d_2 (\u001b[38;5;33mMaxPooling2D\u001b[0m)       │ (\u001b[38;5;45mNone\u001b[0m, \u001b[38;5;34m9\u001b[0m, \u001b[38;5;34m9\u001b[0m, \u001b[38;5;34m128\u001b[0m)           │               \u001b[38;5;34m0\u001b[0m │\n",
              "├──────────────────────────────────────┼─────────────────────────────┼─────────────────┤\n",
              "│ dropout_1 (\u001b[38;5;33mDropout\u001b[0m)                  │ (\u001b[38;5;45mNone\u001b[0m, \u001b[38;5;34m9\u001b[0m, \u001b[38;5;34m9\u001b[0m, \u001b[38;5;34m128\u001b[0m)           │               \u001b[38;5;34m0\u001b[0m │\n",
              "├──────────────────────────────────────┼─────────────────────────────┼─────────────────┤\n",
              "│ flatten (\u001b[38;5;33mFlatten\u001b[0m)                    │ (\u001b[38;5;45mNone\u001b[0m, \u001b[38;5;34m10368\u001b[0m)               │               \u001b[38;5;34m0\u001b[0m │\n",
              "├──────────────────────────────────────┼─────────────────────────────┼─────────────────┤\n",
              "│ dense (\u001b[38;5;33mDense\u001b[0m)                        │ (\u001b[38;5;45mNone\u001b[0m, \u001b[38;5;34m128\u001b[0m)                 │       \u001b[38;5;34m1,327,232\u001b[0m │\n",
              "├──────────────────────────────────────┼─────────────────────────────┼─────────────────┤\n",
              "│ dropout_2 (\u001b[38;5;33mDropout\u001b[0m)                  │ (\u001b[38;5;45mNone\u001b[0m, \u001b[38;5;34m128\u001b[0m)                 │               \u001b[38;5;34m0\u001b[0m │\n",
              "├──────────────────────────────────────┼─────────────────────────────┼─────────────────┤\n",
              "│ dense_1 (\u001b[38;5;33mDense\u001b[0m)                      │ (\u001b[38;5;45mNone\u001b[0m, \u001b[38;5;34m1\u001b[0m)                   │             \u001b[38;5;34m129\u001b[0m │\n",
              "└──────────────────────────────────────┴─────────────────────────────┴─────────────────┘\n"
            ],
            "text/html": [
              "<pre style=\"white-space:pre;overflow-x:auto;line-height:normal;font-family:Menlo,'DejaVu Sans Mono',consolas,'Courier New',monospace\">┏━━━━━━━━━━━━━━━━━━━━━━━━━━━━━━━━━━━━━━┳━━━━━━━━━━━━━━━━━━━━━━━━━━━━━┳━━━━━━━━━━━━━━━━━┓\n",
              "┃<span style=\"font-weight: bold\"> Layer (type)                         </span>┃<span style=\"font-weight: bold\"> Output Shape                </span>┃<span style=\"font-weight: bold\">         Param # </span>┃\n",
              "┡━━━━━━━━━━━━━━━━━━━━━━━━━━━━━━━━━━━━━━╇━━━━━━━━━━━━━━━━━━━━━━━━━━━━━╇━━━━━━━━━━━━━━━━━┩\n",
              "│ conv2d (<span style=\"color: #0087ff; text-decoration-color: #0087ff\">Conv2D</span>)                      │ (<span style=\"color: #00d7ff; text-decoration-color: #00d7ff\">None</span>, <span style=\"color: #00af00; text-decoration-color: #00af00\">256</span>, <span style=\"color: #00af00; text-decoration-color: #00af00\">256</span>, <span style=\"color: #00af00; text-decoration-color: #00af00\">32</span>)        │           <span style=\"color: #00af00; text-decoration-color: #00af00\">2,432</span> │\n",
              "├──────────────────────────────────────┼─────────────────────────────┼─────────────────┤\n",
              "│ max_pooling2d (<span style=\"color: #0087ff; text-decoration-color: #0087ff\">MaxPooling2D</span>)         │ (<span style=\"color: #00d7ff; text-decoration-color: #00d7ff\">None</span>, <span style=\"color: #00af00; text-decoration-color: #00af00\">85</span>, <span style=\"color: #00af00; text-decoration-color: #00af00\">85</span>, <span style=\"color: #00af00; text-decoration-color: #00af00\">32</span>)          │               <span style=\"color: #00af00; text-decoration-color: #00af00\">0</span> │\n",
              "├──────────────────────────────────────┼─────────────────────────────┼─────────────────┤\n",
              "│ conv2d_1 (<span style=\"color: #0087ff; text-decoration-color: #0087ff\">Conv2D</span>)                    │ (<span style=\"color: #00d7ff; text-decoration-color: #00d7ff\">None</span>, <span style=\"color: #00af00; text-decoration-color: #00af00\">85</span>, <span style=\"color: #00af00; text-decoration-color: #00af00\">85</span>, <span style=\"color: #00af00; text-decoration-color: #00af00\">64</span>)          │          <span style=\"color: #00af00; text-decoration-color: #00af00\">18,496</span> │\n",
              "├──────────────────────────────────────┼─────────────────────────────┼─────────────────┤\n",
              "│ max_pooling2d_1 (<span style=\"color: #0087ff; text-decoration-color: #0087ff\">MaxPooling2D</span>)       │ (<span style=\"color: #00d7ff; text-decoration-color: #00d7ff\">None</span>, <span style=\"color: #00af00; text-decoration-color: #00af00\">28</span>, <span style=\"color: #00af00; text-decoration-color: #00af00\">28</span>, <span style=\"color: #00af00; text-decoration-color: #00af00\">64</span>)          │               <span style=\"color: #00af00; text-decoration-color: #00af00\">0</span> │\n",
              "├──────────────────────────────────────┼─────────────────────────────┼─────────────────┤\n",
              "│ dropout (<span style=\"color: #0087ff; text-decoration-color: #0087ff\">Dropout</span>)                    │ (<span style=\"color: #00d7ff; text-decoration-color: #00d7ff\">None</span>, <span style=\"color: #00af00; text-decoration-color: #00af00\">28</span>, <span style=\"color: #00af00; text-decoration-color: #00af00\">28</span>, <span style=\"color: #00af00; text-decoration-color: #00af00\">64</span>)          │               <span style=\"color: #00af00; text-decoration-color: #00af00\">0</span> │\n",
              "├──────────────────────────────────────┼─────────────────────────────┼─────────────────┤\n",
              "│ conv2d_2 (<span style=\"color: #0087ff; text-decoration-color: #0087ff\">Conv2D</span>)                    │ (<span style=\"color: #00d7ff; text-decoration-color: #00d7ff\">None</span>, <span style=\"color: #00af00; text-decoration-color: #00af00\">28</span>, <span style=\"color: #00af00; text-decoration-color: #00af00\">28</span>, <span style=\"color: #00af00; text-decoration-color: #00af00\">128</span>)         │          <span style=\"color: #00af00; text-decoration-color: #00af00\">73,856</span> │\n",
              "├──────────────────────────────────────┼─────────────────────────────┼─────────────────┤\n",
              "│ max_pooling2d_2 (<span style=\"color: #0087ff; text-decoration-color: #0087ff\">MaxPooling2D</span>)       │ (<span style=\"color: #00d7ff; text-decoration-color: #00d7ff\">None</span>, <span style=\"color: #00af00; text-decoration-color: #00af00\">9</span>, <span style=\"color: #00af00; text-decoration-color: #00af00\">9</span>, <span style=\"color: #00af00; text-decoration-color: #00af00\">128</span>)           │               <span style=\"color: #00af00; text-decoration-color: #00af00\">0</span> │\n",
              "├──────────────────────────────────────┼─────────────────────────────┼─────────────────┤\n",
              "│ dropout_1 (<span style=\"color: #0087ff; text-decoration-color: #0087ff\">Dropout</span>)                  │ (<span style=\"color: #00d7ff; text-decoration-color: #00d7ff\">None</span>, <span style=\"color: #00af00; text-decoration-color: #00af00\">9</span>, <span style=\"color: #00af00; text-decoration-color: #00af00\">9</span>, <span style=\"color: #00af00; text-decoration-color: #00af00\">128</span>)           │               <span style=\"color: #00af00; text-decoration-color: #00af00\">0</span> │\n",
              "├──────────────────────────────────────┼─────────────────────────────┼─────────────────┤\n",
              "│ flatten (<span style=\"color: #0087ff; text-decoration-color: #0087ff\">Flatten</span>)                    │ (<span style=\"color: #00d7ff; text-decoration-color: #00d7ff\">None</span>, <span style=\"color: #00af00; text-decoration-color: #00af00\">10368</span>)               │               <span style=\"color: #00af00; text-decoration-color: #00af00\">0</span> │\n",
              "├──────────────────────────────────────┼─────────────────────────────┼─────────────────┤\n",
              "│ dense (<span style=\"color: #0087ff; text-decoration-color: #0087ff\">Dense</span>)                        │ (<span style=\"color: #00d7ff; text-decoration-color: #00d7ff\">None</span>, <span style=\"color: #00af00; text-decoration-color: #00af00\">128</span>)                 │       <span style=\"color: #00af00; text-decoration-color: #00af00\">1,327,232</span> │\n",
              "├──────────────────────────────────────┼─────────────────────────────┼─────────────────┤\n",
              "│ dropout_2 (<span style=\"color: #0087ff; text-decoration-color: #0087ff\">Dropout</span>)                  │ (<span style=\"color: #00d7ff; text-decoration-color: #00d7ff\">None</span>, <span style=\"color: #00af00; text-decoration-color: #00af00\">128</span>)                 │               <span style=\"color: #00af00; text-decoration-color: #00af00\">0</span> │\n",
              "├──────────────────────────────────────┼─────────────────────────────┼─────────────────┤\n",
              "│ dense_1 (<span style=\"color: #0087ff; text-decoration-color: #0087ff\">Dense</span>)                      │ (<span style=\"color: #00d7ff; text-decoration-color: #00d7ff\">None</span>, <span style=\"color: #00af00; text-decoration-color: #00af00\">1</span>)                   │             <span style=\"color: #00af00; text-decoration-color: #00af00\">129</span> │\n",
              "└──────────────────────────────────────┴─────────────────────────────┴─────────────────┘\n",
              "</pre>\n"
            ]
          },
          "metadata": {}
        },
        {
          "output_type": "display_data",
          "data": {
            "text/plain": [
              "\u001b[1m Total params: \u001b[0m\u001b[38;5;34m1,422,145\u001b[0m (5.43 MB)\n"
            ],
            "text/html": [
              "<pre style=\"white-space:pre;overflow-x:auto;line-height:normal;font-family:Menlo,'DejaVu Sans Mono',consolas,'Courier New',monospace\"><span style=\"font-weight: bold\"> Total params: </span><span style=\"color: #00af00; text-decoration-color: #00af00\">1,422,145</span> (5.43 MB)\n",
              "</pre>\n"
            ]
          },
          "metadata": {}
        },
        {
          "output_type": "display_data",
          "data": {
            "text/plain": [
              "\u001b[1m Trainable params: \u001b[0m\u001b[38;5;34m1,422,145\u001b[0m (5.43 MB)\n"
            ],
            "text/html": [
              "<pre style=\"white-space:pre;overflow-x:auto;line-height:normal;font-family:Menlo,'DejaVu Sans Mono',consolas,'Courier New',monospace\"><span style=\"font-weight: bold\"> Trainable params: </span><span style=\"color: #00af00; text-decoration-color: #00af00\">1,422,145</span> (5.43 MB)\n",
              "</pre>\n"
            ]
          },
          "metadata": {}
        },
        {
          "output_type": "display_data",
          "data": {
            "text/plain": [
              "\u001b[1m Non-trainable params: \u001b[0m\u001b[38;5;34m0\u001b[0m (0.00 B)\n"
            ],
            "text/html": [
              "<pre style=\"white-space:pre;overflow-x:auto;line-height:normal;font-family:Menlo,'DejaVu Sans Mono',consolas,'Courier New',monospace\"><span style=\"font-weight: bold\"> Non-trainable params: </span><span style=\"color: #00af00; text-decoration-color: #00af00\">0</span> (0.00 B)\n",
              "</pre>\n"
            ]
          },
          "metadata": {}
        },
        {
          "output_type": "stream",
          "name": "stdout",
          "text": [
            "Epoch 1/40\n"
          ]
        },
        {
          "output_type": "stream",
          "name": "stderr",
          "text": [
            "/usr/local/lib/python3.10/dist-packages/keras/src/trainers/data_adapters/py_dataset_adapter.py:121: UserWarning: Your `PyDataset` class should call `super().__init__(**kwargs)` in its constructor. `**kwargs` can include `workers`, `use_multiprocessing`, `max_queue_size`. Do not pass these arguments to `fit()`, as they will be ignored.\n",
            "  self._warn_if_super_not_called()\n"
          ]
        },
        {
          "output_type": "stream",
          "name": "stdout",
          "text": [
            "\u001b[1m57/57\u001b[0m \u001b[32m━━━━━━━━━━━━━━━━━━━━\u001b[0m\u001b[37m\u001b[0m \u001b[1m59s\u001b[0m 962ms/step - accuracy: 0.6008 - auc: 0.5023 - false_negatives: 81.2241 - false_positives: 8.0690 - loss: 0.9801 - true_negatives: 138.9138 - true_positives: 3.9483 - val_accuracy: 0.4375 - val_auc: 0.7187 - val_false_negatives: 25.0000 - val_false_positives: 2.0000 - val_loss: 0.8616 - val_true_negatives: 19.0000 - val_true_positives: 2.0000\n",
            "Epoch 2/40\n",
            "\u001b[1m57/57\u001b[0m \u001b[32m━━━━━━━━━━━━━━━━━━━━\u001b[0m\u001b[37m\u001b[0m \u001b[1m1s\u001b[0m 3ms/step - accuracy: 0.3750 - auc: 0.6250 - false_negatives: 4.0000 - false_positives: 1.0000 - loss: 0.8725 - true_negatives: 3.0000 - true_positives: 0.0000e+00 - val_accuracy: 0.6667 - val_auc: 1.0000 - val_false_negatives: 1.0000 - val_false_positives: 0.0000e+00 - val_loss: 0.8246 - val_true_negatives: 2.0000 - val_true_positives: 0.0000e+00\n",
            "Epoch 3/40\n"
          ]
        },
        {
          "output_type": "stream",
          "name": "stderr",
          "text": [
            "/usr/lib/python3.10/contextlib.py:153: UserWarning: Your input ran out of data; interrupting training. Make sure that your dataset or generator can generate at least `steps_per_epoch * epochs` batches. You may need to use the `.repeat()` function when building your dataset.\n",
            "  self.gen.throw(typ, value, traceback)\n"
          ]
        },
        {
          "output_type": "stream",
          "name": "stdout",
          "text": [
            "\u001b[1m57/57\u001b[0m \u001b[32m━━━━━━━━━━━━━━━━━━━━\u001b[0m\u001b[37m\u001b[0m \u001b[1m52s\u001b[0m 897ms/step - accuracy: 0.6695 - auc: 0.5214 - false_negatives: 72.1207 - false_positives: 5.8276 - loss: 0.8020 - true_negatives: 145.8276 - true_positives: 10.1897 - val_accuracy: 0.5833 - val_auc: 0.5714 - val_false_negatives: 18.0000 - val_false_positives: 2.0000 - val_loss: 0.8190 - val_true_negatives: 18.0000 - val_true_positives: 10.0000\n",
            "Epoch 4/40\n",
            "\u001b[1m57/57\u001b[0m \u001b[32m━━━━━━━━━━━━━━━━━━━━\u001b[0m\u001b[37m\u001b[0m \u001b[1m1s\u001b[0m 2ms/step - accuracy: 0.2500 - auc: 0.1667 - false_negatives: 4.0000 - false_positives: 2.0000 - loss: 1.0611 - true_negatives: 0.0000e+00 - true_positives: 2.0000 - val_accuracy: 0.6667 - val_auc: 0.0000e+00 - val_false_negatives: 0.0000e+00 - val_false_positives: 1.0000 - val_loss: 0.7512 - val_true_negatives: 2.0000 - val_true_positives: 0.0000e+00\n",
            "Epoch 5/40\n",
            "\u001b[1m57/57\u001b[0m \u001b[32m━━━━━━━━━━━━━━━━━━━━\u001b[0m\u001b[37m\u001b[0m \u001b[1m81s\u001b[0m 903ms/step - accuracy: 0.6520 - auc: 0.5774 - false_negatives: 65.7241 - false_positives: 16.8276 - loss: 0.7542 - true_negatives: 130.7069 - true_positives: 20.4483 - val_accuracy: 0.5417 - val_auc: 0.6407 - val_false_negatives: 19.0000 - val_false_positives: 3.0000 - val_loss: 0.7656 - val_true_negatives: 19.0000 - val_true_positives: 7.0000\n",
            "Epoch 6/40\n",
            "\u001b[1m57/57\u001b[0m \u001b[32m━━━━━━━━━━━━━━━━━━━━\u001b[0m\u001b[37m\u001b[0m \u001b[1m1s\u001b[0m 4ms/step - accuracy: 0.7500 - auc: 0.6667 - false_negatives: 2.0000 - false_positives: 0.0000e+00 - loss: 0.7284 - true_negatives: 5.0000 - true_positives: 1.0000 - val_accuracy: 0.3333 - val_auc: 1.0000 - val_false_negatives: 2.0000 - val_false_positives: 0.0000e+00 - val_loss: 0.8298 - val_true_negatives: 1.0000 - val_true_positives: 0.0000e+00\n",
            "Epoch 7/40\n",
            "\u001b[1m57/57\u001b[0m \u001b[32m━━━━━━━━━━━━━━━━━━━━\u001b[0m\u001b[37m\u001b[0m \u001b[1m78s\u001b[0m 862ms/step - accuracy: 0.6809 - auc: 0.6373 - false_negatives: 68.8793 - false_positives: 11.6379 - loss: 0.6927 - true_negatives: 136.4655 - true_positives: 16.8103 - val_accuracy: 0.4583 - val_auc: 0.6967 - val_false_negatives: 26.0000 - val_false_positives: 0.0000e+00 - val_loss: 0.7768 - val_true_negatives: 22.0000 - val_true_positives: 0.0000e+00\n",
            "Epoch 8/40\n",
            "\u001b[1m57/57\u001b[0m \u001b[32m━━━━━━━━━━━━━━━━━━━━\u001b[0m\u001b[37m\u001b[0m \u001b[1m3s\u001b[0m 42ms/step - accuracy: 0.8750 - auc: 1.0000 - false_negatives: 1.0000 - false_positives: 0.0000e+00 - loss: 0.5858 - true_negatives: 7.0000 - true_positives: 0.0000e+00 - val_accuracy: 0.3333 - val_auc: 1.0000 - val_false_negatives: 2.0000 - val_false_positives: 0.0000e+00 - val_loss: 0.7782 - val_true_negatives: 1.0000 - val_true_positives: 0.0000e+00\n",
            "Epoch 9/40\n",
            "\u001b[1m57/57\u001b[0m \u001b[32m━━━━━━━━━━━━━━━━━━━━\u001b[0m\u001b[37m\u001b[0m \u001b[1m52s\u001b[0m 902ms/step - accuracy: 0.6764 - auc: 0.5771 - false_negatives: 70.6207 - false_positives: 6.2414 - loss: 0.6948 - true_negatives: 139.7241 - true_positives: 15.8276 - val_accuracy: 0.4375 - val_auc: 0.6049 - val_false_negatives: 24.0000 - val_false_positives: 3.0000 - val_loss: 0.7894 - val_true_negatives: 19.0000 - val_true_positives: 2.0000\n"
          ]
        }
      ],
      "source": [
        "# Initialize the model\n",
        "model = Sequential()\n",
        "\n",
        "# Add regularization to the convolutional layers and include dropout layers\n",
        "model.add(Conv2D(32, (5,5), activation='relu', padding='same', input_shape=(256,256,3), kernel_regularizer=l2(0.001)))\n",
        "model.add(MaxPooling2D(3, 3))\n",
        "\n",
        "model.add(Conv2D(64, (3,3), activation='relu', padding='same', kernel_regularizer=l2(0.001)))\n",
        "model.add(MaxPooling2D(3, 3))\n",
        "model.add(Dropout(0.25))\n",
        "\n",
        "model.add(Conv2D(128, (3,3), activation='relu', padding='same', kernel_regularizer=l2(0.001)))\n",
        "model.add(MaxPooling2D(3, 3))\n",
        "model.add(Dropout(0.25))\n",
        "\n",
        "\n",
        "model.add(Flatten())\n",
        "\n",
        "model.add(Dense(128, activation='relu', kernel_regularizer=l2(0.001)))\n",
        "model.add(Dropout(0.5))  # Add dropout after the dense layer\n",
        "\n",
        "# Output layer\n",
        "model.add(Dense(1, activation='sigmoid'))\n",
        "\n",
        "# Compile the model\n",
        "model.compile(optimizer='adam', loss='binary_crossentropy',\n",
        "              metrics=['accuracy', AUC(), TruePositives(), TrueNegatives(), FalsePositives(), FalseNegatives()])\n",
        "\n",
        "# Model summary\n",
        "model.summary()\n",
        "\n",
        "# Add EarlyStopping when the validation loss starts increasing\n",
        "early_stopping = EarlyStopping(monitor='val_loss', patience=5, restore_best_weights=True)\n",
        "\n",
        "# Train the model\n",
        "history = model.fit(\n",
        "    train_dataset,\n",
        "    steps_per_epoch=train_dataset.samples // train_dataset.batch_size,\n",
        "    epochs=40,\n",
        "    validation_data=test_dataset,\n",
        "    validation_steps=test_dataset.samples // test_dataset.batch_size,\n",
        "    callbacks=[early_stopping])\n"
      ]
    },
    {
      "cell_type": "code",
      "execution_count": 8,
      "id": "818a3e80",
      "metadata": {
        "id": "818a3e80",
        "outputId": "22e46e84-1447-4b3c-d8fa-52bbcef159ed",
        "colab": {
          "base_uri": "https://localhost:8080/"
        }
      },
      "outputs": [
        {
          "output_type": "stream",
          "name": "stdout",
          "text": [
            "Final Training Accuracy: 0.67405766248703\n",
            "Final Training Loss: 0.6966046094894409\n",
            "Final Validation Accuracy: 0.4375\n",
            "Final Validation Loss: 0.7894356846809387\n"
          ]
        }
      ],
      "source": [
        "# Print final accuracy and loss\n",
        "final_train_accuracy = history.history['accuracy'][-1]\n",
        "final_train_loss = history.history['loss'][-1]\n",
        "final_val_accuracy = history.history['val_accuracy'][-1]\n",
        "final_val_loss = history.history['val_loss'][-1]\n",
        "\n",
        "print(f\"Final Training Accuracy: {final_train_accuracy}\")\n",
        "print(f\"Final Training Loss: {final_train_loss}\")\n",
        "print(f\"Final Validation Accuracy: {final_val_accuracy}\")\n",
        "print(f\"Final Validation Loss: {final_val_loss}\")\n"
      ]
    },
    {
      "cell_type": "code",
      "execution_count": 9,
      "id": "41d82bff",
      "metadata": {
        "id": "41d82bff",
        "outputId": "62f26788-63a5-4e3e-cd77-714c48e600c1",
        "colab": {
          "base_uri": "https://localhost:8080/",
          "height": 507
        }
      },
      "outputs": [
        {
          "output_type": "display_data",
          "data": {
            "text/plain": [
              "<Figure size 1000x500 with 2 Axes>"
            ],
            "image/png": "[encoded data removed]"
          },
          "metadata": {}
        }
      ],
      "source": [
        "import matplotlib.pyplot as plt\n",
        "\n",
        "# Plot for accuracy\n",
        "plt.figure(figsize=(10, 5))\n",
        "plt.subplot(1, 2, 1)\n",
        "plt.plot(history.history['accuracy'], label='Training Accuracy')\n",
        "plt.plot(history.history['val_accuracy'], label='Validation Accuracy')\n",
        "plt.title('Training and Validation Accuracy')\n",
        "plt.xlabel('Epoch')\n",
        "plt.ylabel('Accuracy')\n",
        "plt.legend()\n",
        "\n",
        "# Plot for loss\n",
        "plt.subplot(1, 2, 2)\n",
        "plt.plot(history.history['loss'], label='Training Loss')\n",
        "plt.plot(history.history['val_loss'], label='Validation Loss')\n",
        "plt.title('Training and Validation Loss')\n",
        "plt.xlabel('Epoch')\n",
        "plt.ylabel('Loss')\n",
        "plt.legend()\n",
        "\n",
        "plt.tight_layout()\n",
        "plt.show()\n"
      ]
    },
    {
      "cell_type": "code",
      "execution_count": 10,
      "id": "2c4ee03b",
      "metadata": {
        "id": "2c4ee03b",
        "outputId": "ea4e39e5-a474-43a7-ba71-3aa2ce434691",
        "colab": {
          "base_uri": "https://localhost:8080/"
        }
      },
      "outputs": [
        {
          "output_type": "stream",
          "name": "stderr",
          "text": [
            "WARNING:absl:You are saving your model as an HDF5 file via `model.save()` or `keras.saving.save_model(model)`. This file format is considered legacy. We recommend using instead the native Keras format, e.g. `model.save('my_model.keras')` or `keras.saving.save_model(model, 'my_model.keras')`. \n"
          ]
        }
      ],
      "source": [
        "model.save('C:/Users/alan/Medical Image Project/CNN model.h5')"
      ]
    },
    {
      "cell_type": "code",
      "execution_count": 10,
      "id": "0602e3e9",
      "metadata": {
        "id": "0602e3e9"
      },
      "outputs": [],
      "source": []
    }
  ],
  "metadata": {
    "kernelspec": {
      "display_name": "Python 3 (ipykernel)",
      "language": "python",
      "name": "python3"
    },
    "language_info": {
      "codemirror_mode": {
        "name": "ipython",
        "version": 3
      },
      "file_extension": ".py",
      "mimetype": "text/x-python",
      "name": "python",
      "nbconvert_exporter": "python",
      "pygments_lexer": "ipython3",
      "version": "3.9.13"
    },
    "colab": {
      "provenance": [],
      "include_colab_link": true
    }
  },
  "nbformat": 4,
  "nbformat_minor": 5
}