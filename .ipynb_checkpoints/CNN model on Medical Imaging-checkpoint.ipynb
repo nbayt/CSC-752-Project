{
  "cells": [
    {
      "cell_type": "markdown",
      "metadata": {
        "id": "view-in-github",
        "colab_type": "text"
      },
      "source": [
        "<a href=\"https://colab.research.google.com/github/siddhartha201/CSC-752-Project/blob/main/.ipynb_checkpoints/CNN%20model%20on%20Medical%20Imaging-checkpoint.ipynb\" target=\"_parent\"><img src=\"https://colab.research.google.com/assets/colab-badge.svg\" alt=\"Open In Colab\"/></a>"
      ]
    },
    {
      "cell_type": "code",
      "execution_count": null,
      "id": "fe6a55a0",
      "metadata": {
        "id": "fe6a55a0"
      },
      "outputs": [],
      "source": [
        "import pandas as pd\n",
        "import os\n",
        "import pandas as pd\n",
        "from sklearn.model_selection import train_test_split\n",
        "from tensorflow.keras.preprocessing.image import ImageDataGenerator\n",
        "\n",
        "from tensorflow.keras.models import Sequential\n",
        "from tensorflow.keras.layers import Conv2D, MaxPooling2D, Flatten, Dense, Dropout\n",
        "\n",
        "\n",
        "from tensorflow.keras.regularizers import l2\n",
        "from tensorflow.keras.callbacks import EarlyStopping\n",
        "from tensorflow.keras.metrics import AUC, TruePositives, TrueNegatives, FalsePositives, FalseNegatives\n"
      ]
    },
    {
      "cell_type": "code",
      "source": [
        "!git clone https://github.com/siddhartha201/CSC-752-Project.git\n"
      ],
      "metadata": {
        "id": "TFGy3FpGjAvg"
      },
      "id": "TFGy3FpGjAvg",
      "execution_count": null,
      "outputs": []
    },
    {
      "cell_type": "code",
      "source": [
        "\n",
        "import os\n",
        "import shutil\n",
        "import math\n",
        "import pandas as pd\n",
        "\n",
        "# Define paths\n",
        "src_folder = '/content/CSC-752-Project/BrEaST-Lesions_USG-images_and_masks'\n",
        "train_folder = '/content/CSC-752-Project/BrEaST-Lesions_USG-images_and_masks/train'\n",
        "test_folder = '/content/CSC-752-Project/BrEaST-Lesions_USG-images_and_masks/test'\n",
        "excel_file_path = '/content/CSC-752-Project/BrEaST-Lesions-USG-clinical-data-Dec-15-2023.xlsx'\n",
        "\n",
        "# Read the Excel file\n",
        "df = pd.read_excel(excel_file_path)\n",
        "\n",
        "df['Classification'].unique()"
      ],
      "metadata": {
        "id": "vZ6yTbwjlvu3"
      },
      "id": "vZ6yTbwjlvu3",
      "execution_count": null,
      "outputs": []
    },
    {
      "cell_type": "code",
      "source": [
        "df.iloc[40:47]"
      ],
      "metadata": {
        "id": "7L5E-FxfisuB"
      },
      "id": "7L5E-FxfisuB",
      "execution_count": null,
      "outputs": []
    },
    {
      "cell_type": "code",
      "source": [
        "\n",
        "# Fill missing names in column 'C' based on their row index\n",
        "for index in df.index:\n",
        "    if pd.isna(df.at[index, 'Mask_tumor_filename']):  # Check if the value is NaN\n",
        "        # Generate the name pattern based on index\n",
        "        df.at[index, 'Mask_tumor_filename'] = f'case{index+1:03d}_tumor.png'\n",
        "\n",
        "# Extract image names and their corresponding classes\n",
        "image_names_b_train = df['Image_filename'][0:].tolist()  # Adjusting for zero-based index\n",
        "image_names_c_train = df['Mask_tumor_filename'][0:].tolist()  # Adjusting for zero-based index\n",
        "classes_train = df['Classification'][0:].replace('normal', 'benign').tolist()  # Treating 'normal' as 'benign'\n",
        "\n",
        "# Create a list for train images with desired pairing\n",
        "train_images = []\n",
        "\n",
        "# Loop through the classes and corresponding images from both columns\n",
        "for i in range(len(classes_train)):\n",
        "    # Pair the first column's image name with the class\n",
        "    train_images.append((image_names_b_train[i], classes_train[i]))\n",
        "    # Pair the second column's image name with the class\n",
        "    train_images.append((image_names_c_train[i], classes_train[i]))\n",
        "\n",
        "# Create directories for classes in both train and test folders\n",
        "os.makedirs(os.path.join(train_folder, 'malignant'), exist_ok=True)\n",
        "os.makedirs(os.path.join(train_folder, 'benign'), exist_ok=True)\n",
        "os.makedirs(os.path.join(test_folder, 'malignant'), exist_ok=True)\n",
        "os.makedirs(os.path.join(test_folder, 'benign'), exist_ok=True)\n",
        "\n",
        "# Shuffle and split into train and test datasets\n",
        "num_train_images = math.ceil(len(train_images) * 0.9)  # 90% for training\n",
        "train_images_split = train_images[:num_train_images]  # First 90% for training\n",
        "test_images = train_images[num_train_images:]  # Remaining for testing\n",
        "\n",
        "# Function to copy images to their respective class folders\n",
        "def copy_images(image_list, folder):\n",
        "    for img_name, label in image_list:\n",
        "        src_file = os.path.join(src_folder, img_name)\n",
        "        dst_folder = os.path.join(folder, label)\n",
        "        dst_file = os.path.join(dst_folder, img_name)\n",
        "\n",
        "        if os.path.isfile(src_file):  # Ensure the file exists before copying\n",
        "            shutil.copy(src_file, dst_file)\n",
        "\n",
        "# Copy images for training\n",
        "copy_images(train_images_split, train_folder)\n",
        "\n",
        "# Copy images for testing\n",
        "copy_images(test_images, test_folder)\n",
        "\n",
        "print(f\"Copied {len(train_images_split)} training images to {train_folder}\")\n",
        "print(f\"Copied {len(test_images)} testing images to {test_folder}\")\n",
        "\n"
      ],
      "metadata": {
        "id": "YfA-rHbMCpwt"
      },
      "id": "YfA-rHbMCpwt",
      "execution_count": null,
      "outputs": []
    },
    {
      "cell_type": "code",
      "source": [
        "df.iloc[250:]"
      ],
      "metadata": {
        "id": "mFX3q6L4j7QT"
      },
      "id": "mFX3q6L4j7QT",
      "execution_count": null,
      "outputs": []
    },
    {
      "cell_type": "code",
      "source": [
        "\n",
        "import os\n",
        "\n",
        "# Specify the directory path\n",
        "train_folder = '/content/CSC-752-Project/BrEaST-Lesions_USG-images_and_masks/train'\n",
        "\n",
        "# Count the number of files in the directory\n",
        "file_count = sum(len(files) for _, _, files in os.walk(train_folder))\n",
        "\n",
        "print(f\"Number of files in '{train_folder}': {file_count}\")\n"
      ],
      "metadata": {
        "id": "r6qYLW4ESIWX"
      },
      "id": "r6qYLW4ESIWX",
      "execution_count": null,
      "outputs": []
    },
    {
      "cell_type": "code",
      "execution_count": null,
      "id": "5695d7f2",
      "metadata": {
        "id": "5695d7f2"
      },
      "outputs": [],
      "source": [
        "from tensorflow.keras.preprocessing.image import ImageDataGenerator\n",
        "\n",
        "# directory\n",
        "base_dir = \"/content/CSC-752-Project/BrEaST-Lesions_USG-images_and_masks\"\n",
        "\n",
        "# Training and testing\n",
        "train_dir = os.path.join(base_dir, 'train')\n",
        "test_dir = os.path.join(base_dir, 'test')\n",
        "\n",
        "# rescaling\n",
        "train_datagen = ImageDataGenerator(rescale=1/255, horizontal_flip=True)\n",
        "test_datagen = ImageDataGenerator(rescale=1/255)\n",
        "\n",
        "# Create a stream for training\n",
        "train_dataset = train_datagen.flow_from_directory(\n",
        "    directory=train_dir,\n",
        "    target_size=(256, 256),\n",
        "    batch_size=16,\n",
        "    class_mode='binary'\n",
        ")\n",
        "\n",
        "# Create a stream of images for testing\n",
        "test_dataset = test_datagen.flow_from_directory(\n",
        "    directory=test_dir,\n",
        "    target_size=(256, 256),\n",
        "    batch_size=16,\n",
        "    class_mode='binary'\n",
        ")\n"
      ]
    },
    {
      "cell_type": "code",
      "execution_count": null,
      "id": "3448b3b3",
      "metadata": {
        "id": "3448b3b3",
        "outputId": "13d5d748-d260-4979-c0cc-973da88e9e35",
        "colab": {
          "base_uri": "https://localhost:8080/",
          "height": 878
        }
      },
      "outputs": [
        {
          "output_type": "stream",
          "name": "stderr",
          "text": [
            "/usr/local/lib/python3.10/dist-packages/keras/src/layers/convolutional/base_conv.py:107: UserWarning: Do not pass an `input_shape`/`input_dim` argument to a layer. When using Sequential models, prefer using an `Input(shape)` object as the first layer in the model instead.\n",
            "  super().__init__(activity_regularizer=activity_regularizer, **kwargs)\n"
          ]
        },
        {
          "output_type": "display_data",
          "data": {
            "text/plain": [
              "\u001b[1mModel: \"sequential_3\"\u001b[0m\n"
            ],
            "text/html": [
              "<pre style=\"white-space:pre;overflow-x:auto;line-height:normal;font-family:Menlo,'DejaVu Sans Mono',consolas,'Courier New',monospace\"><span style=\"font-weight: bold\">Model: \"sequential_3\"</span>\n",
              "</pre>\n"
            ]
          },
          "metadata": {}
        },
        {
          "output_type": "display_data",
          "data": {
            "text/plain": [
              "┏━━━━━━━━━━━━━━━━━━━━━━━━━━━━━━━━━━━━━━┳━━━━━━━━━━━━━━━━━━━━━━━━━━━━━┳━━━━━━━━━━━━━━━━━┓\n",
              "┃\u001b[1m \u001b[0m\u001b[1mLayer (type)                        \u001b[0m\u001b[1m \u001b[0m┃\u001b[1m \u001b[0m\u001b[1mOutput Shape               \u001b[0m\u001b[1m \u001b[0m┃\u001b[1m \u001b[0m\u001b[1m        Param #\u001b[0m\u001b[1m \u001b[0m┃\n",
              "┡━━━━━━━━━━━━━━━━━━━━━━━━━━━━━━━━━━━━━━╇━━━━━━━━━━━━━━━━━━━━━━━━━━━━━╇━━━━━━━━━━━━━━━━━┩\n",
              "│ conv2d_9 (\u001b[38;5;33mConv2D\u001b[0m)                    │ (\u001b[38;5;45mNone\u001b[0m, \u001b[38;5;34m256\u001b[0m, \u001b[38;5;34m256\u001b[0m, \u001b[38;5;34m32\u001b[0m)        │           \u001b[38;5;34m2,432\u001b[0m │\n",
              "├──────────────────────────────────────┼─────────────────────────────┼─────────────────┤\n",
              "│ max_pooling2d_9 (\u001b[38;5;33mMaxPooling2D\u001b[0m)       │ (\u001b[38;5;45mNone\u001b[0m, \u001b[38;5;34m85\u001b[0m, \u001b[38;5;34m85\u001b[0m, \u001b[38;5;34m32\u001b[0m)          │               \u001b[38;5;34m0\u001b[0m │\n",
              "├──────────────────────────────────────┼─────────────────────────────┼─────────────────┤\n",
              "│ conv2d_10 (\u001b[38;5;33mConv2D\u001b[0m)                   │ (\u001b[38;5;45mNone\u001b[0m, \u001b[38;5;34m85\u001b[0m, \u001b[38;5;34m85\u001b[0m, \u001b[38;5;34m64\u001b[0m)          │          \u001b[38;5;34m18,496\u001b[0m │\n",
              "├──────────────────────────────────────┼─────────────────────────────┼─────────────────┤\n",
              "│ max_pooling2d_10 (\u001b[38;5;33mMaxPooling2D\u001b[0m)      │ (\u001b[38;5;45mNone\u001b[0m, \u001b[38;5;34m28\u001b[0m, \u001b[38;5;34m28\u001b[0m, \u001b[38;5;34m64\u001b[0m)          │               \u001b[38;5;34m0\u001b[0m │\n",
              "├──────────────────────────────────────┼─────────────────────────────┼─────────────────┤\n",
              "│ dropout_9 (\u001b[38;5;33mDropout\u001b[0m)                  │ (\u001b[38;5;45mNone\u001b[0m, \u001b[38;5;34m28\u001b[0m, \u001b[38;5;34m28\u001b[0m, \u001b[38;5;34m64\u001b[0m)          │               \u001b[38;5;34m0\u001b[0m │\n",
              "├──────────────────────────────────────┼─────────────────────────────┼─────────────────┤\n",
              "│ conv2d_11 (\u001b[38;5;33mConv2D\u001b[0m)                   │ (\u001b[38;5;45mNone\u001b[0m, \u001b[38;5;34m28\u001b[0m, \u001b[38;5;34m28\u001b[0m, \u001b[38;5;34m128\u001b[0m)         │          \u001b[38;5;34m73,856\u001b[0m │\n",
              "├──────────────────────────────────────┼─────────────────────────────┼─────────────────┤\n",
              "│ max_pooling2d_11 (\u001b[38;5;33mMaxPooling2D\u001b[0m)      │ (\u001b[38;5;45mNone\u001b[0m, \u001b[38;5;34m9\u001b[0m, \u001b[38;5;34m9\u001b[0m, \u001b[38;5;34m128\u001b[0m)           │               \u001b[38;5;34m0\u001b[0m │\n",
              "├──────────────────────────────────────┼─────────────────────────────┼─────────────────┤\n",
              "│ dropout_10 (\u001b[38;5;33mDropout\u001b[0m)                 │ (\u001b[38;5;45mNone\u001b[0m, \u001b[38;5;34m9\u001b[0m, \u001b[38;5;34m9\u001b[0m, \u001b[38;5;34m128\u001b[0m)           │               \u001b[38;5;34m0\u001b[0m │\n",
              "├──────────────────────────────────────┼─────────────────────────────┼─────────────────┤\n",
              "│ flatten_3 (\u001b[38;5;33mFlatten\u001b[0m)                  │ (\u001b[38;5;45mNone\u001b[0m, \u001b[38;5;34m10368\u001b[0m)               │               \u001b[38;5;34m0\u001b[0m │\n",
              "├──────────────────────────────────────┼─────────────────────────────┼─────────────────┤\n",
              "│ dense_6 (\u001b[38;5;33mDense\u001b[0m)                      │ (\u001b[38;5;45mNone\u001b[0m, \u001b[38;5;34m128\u001b[0m)                 │       \u001b[38;5;34m1,327,232\u001b[0m │\n",
              "├──────────────────────────────────────┼─────────────────────────────┼─────────────────┤\n",
              "│ dropout_11 (\u001b[38;5;33mDropout\u001b[0m)                 │ (\u001b[38;5;45mNone\u001b[0m, \u001b[38;5;34m128\u001b[0m)                 │               \u001b[38;5;34m0\u001b[0m │\n",
              "├──────────────────────────────────────┼─────────────────────────────┼─────────────────┤\n",
              "│ dense_7 (\u001b[38;5;33mDense\u001b[0m)                      │ (\u001b[38;5;45mNone\u001b[0m, \u001b[38;5;34m1\u001b[0m)                   │             \u001b[38;5;34m129\u001b[0m │\n",
              "└──────────────────────────────────────┴─────────────────────────────┴─────────────────┘\n"
            ],
            "text/html": [
              "<pre style=\"white-space:pre;overflow-x:auto;line-height:normal;font-family:Menlo,'DejaVu Sans Mono',consolas,'Courier New',monospace\">┏━━━━━━━━━━━━━━━━━━━━━━━━━━━━━━━━━━━━━━┳━━━━━━━━━━━━━━━━━━━━━━━━━━━━━┳━━━━━━━━━━━━━━━━━┓\n",
              "┃<span style=\"font-weight: bold\"> Layer (type)                         </span>┃<span style=\"font-weight: bold\"> Output Shape                </span>┃<span style=\"font-weight: bold\">         Param # </span>┃\n",
              "┡━━━━━━━━━━━━━━━━━━━━━━━━━━━━━━━━━━━━━━╇━━━━━━━━━━━━━━━━━━━━━━━━━━━━━╇━━━━━━━━━━━━━━━━━┩\n",
              "│ conv2d_9 (<span style=\"color: #0087ff; text-decoration-color: #0087ff\">Conv2D</span>)                    │ (<span style=\"color: #00d7ff; text-decoration-color: #00d7ff\">None</span>, <span style=\"color: #00af00; text-decoration-color: #00af00\">256</span>, <span style=\"color: #00af00; text-decoration-color: #00af00\">256</span>, <span style=\"color: #00af00; text-decoration-color: #00af00\">32</span>)        │           <span style=\"color: #00af00; text-decoration-color: #00af00\">2,432</span> │\n",
              "├──────────────────────────────────────┼─────────────────────────────┼─────────────────┤\n",
              "│ max_pooling2d_9 (<span style=\"color: #0087ff; text-decoration-color: #0087ff\">MaxPooling2D</span>)       │ (<span style=\"color: #00d7ff; text-decoration-color: #00d7ff\">None</span>, <span style=\"color: #00af00; text-decoration-color: #00af00\">85</span>, <span style=\"color: #00af00; text-decoration-color: #00af00\">85</span>, <span style=\"color: #00af00; text-decoration-color: #00af00\">32</span>)          │               <span style=\"color: #00af00; text-decoration-color: #00af00\">0</span> │\n",
              "├──────────────────────────────────────┼─────────────────────────────┼─────────────────┤\n",
              "│ conv2d_10 (<span style=\"color: #0087ff; text-decoration-color: #0087ff\">Conv2D</span>)                   │ (<span style=\"color: #00d7ff; text-decoration-color: #00d7ff\">None</span>, <span style=\"color: #00af00; text-decoration-color: #00af00\">85</span>, <span style=\"color: #00af00; text-decoration-color: #00af00\">85</span>, <span style=\"color: #00af00; text-decoration-color: #00af00\">64</span>)          │          <span style=\"color: #00af00; text-decoration-color: #00af00\">18,496</span> │\n",
              "├──────────────────────────────────────┼─────────────────────────────┼─────────────────┤\n",
              "│ max_pooling2d_10 (<span style=\"color: #0087ff; text-decoration-color: #0087ff\">MaxPooling2D</span>)      │ (<span style=\"color: #00d7ff; text-decoration-color: #00d7ff\">None</span>, <span style=\"color: #00af00; text-decoration-color: #00af00\">28</span>, <span style=\"color: #00af00; text-decoration-color: #00af00\">28</span>, <span style=\"color: #00af00; text-decoration-color: #00af00\">64</span>)          │               <span style=\"color: #00af00; text-decoration-color: #00af00\">0</span> │\n",
              "├──────────────────────────────────────┼─────────────────────────────┼─────────────────┤\n",
              "│ dropout_9 (<span style=\"color: #0087ff; text-decoration-color: #0087ff\">Dropout</span>)                  │ (<span style=\"color: #00d7ff; text-decoration-color: #00d7ff\">None</span>, <span style=\"color: #00af00; text-decoration-color: #00af00\">28</span>, <span style=\"color: #00af00; text-decoration-color: #00af00\">28</span>, <span style=\"color: #00af00; text-decoration-color: #00af00\">64</span>)          │               <span style=\"color: #00af00; text-decoration-color: #00af00\">0</span> │\n",
              "├──────────────────────────────────────┼─────────────────────────────┼─────────────────┤\n",
              "│ conv2d_11 (<span style=\"color: #0087ff; text-decoration-color: #0087ff\">Conv2D</span>)                   │ (<span style=\"color: #00d7ff; text-decoration-color: #00d7ff\">None</span>, <span style=\"color: #00af00; text-decoration-color: #00af00\">28</span>, <span style=\"color: #00af00; text-decoration-color: #00af00\">28</span>, <span style=\"color: #00af00; text-decoration-color: #00af00\">128</span>)         │          <span style=\"color: #00af00; text-decoration-color: #00af00\">73,856</span> │\n",
              "├──────────────────────────────────────┼─────────────────────────────┼─────────────────┤\n",
              "│ max_pooling2d_11 (<span style=\"color: #0087ff; text-decoration-color: #0087ff\">MaxPooling2D</span>)      │ (<span style=\"color: #00d7ff; text-decoration-color: #00d7ff\">None</span>, <span style=\"color: #00af00; text-decoration-color: #00af00\">9</span>, <span style=\"color: #00af00; text-decoration-color: #00af00\">9</span>, <span style=\"color: #00af00; text-decoration-color: #00af00\">128</span>)           │               <span style=\"color: #00af00; text-decoration-color: #00af00\">0</span> │\n",
              "├──────────────────────────────────────┼─────────────────────────────┼─────────────────┤\n",
              "│ dropout_10 (<span style=\"color: #0087ff; text-decoration-color: #0087ff\">Dropout</span>)                 │ (<span style=\"color: #00d7ff; text-decoration-color: #00d7ff\">None</span>, <span style=\"color: #00af00; text-decoration-color: #00af00\">9</span>, <span style=\"color: #00af00; text-decoration-color: #00af00\">9</span>, <span style=\"color: #00af00; text-decoration-color: #00af00\">128</span>)           │               <span style=\"color: #00af00; text-decoration-color: #00af00\">0</span> │\n",
              "├──────────────────────────────────────┼─────────────────────────────┼─────────────────┤\n",
              "│ flatten_3 (<span style=\"color: #0087ff; text-decoration-color: #0087ff\">Flatten</span>)                  │ (<span style=\"color: #00d7ff; text-decoration-color: #00d7ff\">None</span>, <span style=\"color: #00af00; text-decoration-color: #00af00\">10368</span>)               │               <span style=\"color: #00af00; text-decoration-color: #00af00\">0</span> │\n",
              "├──────────────────────────────────────┼─────────────────────────────┼─────────────────┤\n",
              "│ dense_6 (<span style=\"color: #0087ff; text-decoration-color: #0087ff\">Dense</span>)                      │ (<span style=\"color: #00d7ff; text-decoration-color: #00d7ff\">None</span>, <span style=\"color: #00af00; text-decoration-color: #00af00\">128</span>)                 │       <span style=\"color: #00af00; text-decoration-color: #00af00\">1,327,232</span> │\n",
              "├──────────────────────────────────────┼─────────────────────────────┼─────────────────┤\n",
              "│ dropout_11 (<span style=\"color: #0087ff; text-decoration-color: #0087ff\">Dropout</span>)                 │ (<span style=\"color: #00d7ff; text-decoration-color: #00d7ff\">None</span>, <span style=\"color: #00af00; text-decoration-color: #00af00\">128</span>)                 │               <span style=\"color: #00af00; text-decoration-color: #00af00\">0</span> │\n",
              "├──────────────────────────────────────┼─────────────────────────────┼─────────────────┤\n",
              "│ dense_7 (<span style=\"color: #0087ff; text-decoration-color: #0087ff\">Dense</span>)                      │ (<span style=\"color: #00d7ff; text-decoration-color: #00d7ff\">None</span>, <span style=\"color: #00af00; text-decoration-color: #00af00\">1</span>)                   │             <span style=\"color: #00af00; text-decoration-color: #00af00\">129</span> │\n",
              "└──────────────────────────────────────┴─────────────────────────────┴─────────────────┘\n",
              "</pre>\n"
            ]
          },
          "metadata": {}
        },
        {
          "output_type": "display_data",
          "data": {
            "text/plain": [
              "\u001b[1m Total params: \u001b[0m\u001b[38;5;34m1,422,145\u001b[0m (5.43 MB)\n"
            ],
            "text/html": [
              "<pre style=\"white-space:pre;overflow-x:auto;line-height:normal;font-family:Menlo,'DejaVu Sans Mono',consolas,'Courier New',monospace\"><span style=\"font-weight: bold\"> Total params: </span><span style=\"color: #00af00; text-decoration-color: #00af00\">1,422,145</span> (5.43 MB)\n",
              "</pre>\n"
            ]
          },
          "metadata": {}
        },
        {
          "output_type": "display_data",
          "data": {
            "text/plain": [
              "\u001b[1m Trainable params: \u001b[0m\u001b[38;5;34m1,422,145\u001b[0m (5.43 MB)\n"
            ],
            "text/html": [
              "<pre style=\"white-space:pre;overflow-x:auto;line-height:normal;font-family:Menlo,'DejaVu Sans Mono',consolas,'Courier New',monospace\"><span style=\"font-weight: bold\"> Trainable params: </span><span style=\"color: #00af00; text-decoration-color: #00af00\">1,422,145</span> (5.43 MB)\n",
              "</pre>\n"
            ]
          },
          "metadata": {}
        },
        {
          "output_type": "display_data",
          "data": {
            "text/plain": [
              "\u001b[1m Non-trainable params: \u001b[0m\u001b[38;5;34m0\u001b[0m (0.00 B)\n"
            ],
            "text/html": [
              "<pre style=\"white-space:pre;overflow-x:auto;line-height:normal;font-family:Menlo,'DejaVu Sans Mono',consolas,'Courier New',monospace\"><span style=\"font-weight: bold\"> Non-trainable params: </span><span style=\"color: #00af00; text-decoration-color: #00af00\">0</span> (0.00 B)\n",
              "</pre>\n"
            ]
          },
          "metadata": {}
        },
        {
          "output_type": "stream",
          "name": "stdout",
          "text": [
            "Epoch 1/100\n"
          ]
        },
        {
          "output_type": "stream",
          "name": "stderr",
          "text": [
            "/usr/local/lib/python3.10/dist-packages/keras/src/trainers/data_adapters/py_dataset_adapter.py:121: UserWarning: Your `PyDataset` class should call `super().__init__(**kwargs)` in its constructor. `**kwargs` can include `workers`, `use_multiprocessing`, `max_queue_size`. Do not pass these arguments to `fit()`, as they will be ignored.\n",
            "  self._warn_if_super_not_called()\n"
          ]
        },
        {
          "output_type": "stream",
          "name": "stdout",
          "text": [
            "\u001b[1m28/28\u001b[0m \u001b[32m━━━━━━━━━━━━━━━━━━━━\u001b[0m\u001b[37m\u001b[0m \u001b[1m56s\u001b[0m 2s/step - accuracy: 0.6379 - auc_3: 0.5261 - false_negatives_3: 72.2069 - false_positives_3: 19.0690 - loss: 1.0046 - true_negatives_3: 133.2414 - true_positives_3: 13.0345 - val_accuracy: 0.4792 - val_auc_3: 0.6049 - val_false_negatives_3: 23.0000 - val_false_positives_3: 2.0000 - val_loss: 0.9488 - val_true_negatives_3: 19.0000 - val_true_positives_3: 4.0000\n",
            "Epoch 2/100\n",
            "\u001b[1m28/28\u001b[0m \u001b[32m━━━━━━━━━━━━━━━━━━━━\u001b[0m\u001b[37m\u001b[0m \u001b[1m2s\u001b[0m 7ms/step - accuracy: 0.6250 - auc_3: 0.5636 - false_negatives_3: 5.0000 - false_positives_3: 1.0000 - loss: 0.8633 - true_negatives_3: 10.0000 - true_positives_3: 0.0000e+00 - val_accuracy: 0.6667 - val_auc_3: 0.5000 - val_false_negatives_3: 1.0000 - val_false_positives_3: 0.0000e+00 - val_loss: 0.8566 - val_true_negatives_3: 2.0000 - val_true_positives_3: 0.0000e+00\n",
            "Epoch 3/100\n"
          ]
        },
        {
          "output_type": "stream",
          "name": "stderr",
          "text": [
            "/usr/lib/python3.10/contextlib.py:153: UserWarning: Your input ran out of data; interrupting training. Make sure that your dataset or generator can generate at least `steps_per_epoch * epochs` batches. You may need to use the `.repeat()` function when building your dataset.\n",
            "  self.gen.throw(typ, value, traceback)\n"
          ]
        },
        {
          "output_type": "stream",
          "name": "stdout",
          "text": [
            "\u001b[1m28/28\u001b[0m \u001b[32m━━━━━━━━━━━━━━━━━━━━\u001b[0m\u001b[37m\u001b[0m \u001b[1m80s\u001b[0m 2s/step - accuracy: 0.6523 - auc_3: 0.5972 - false_negatives_3: 72.2069 - false_positives_3: 9.3793 - loss: 0.8467 - true_negatives_3: 140.2069 - true_positives_3: 15.0690 - val_accuracy: 0.4792 - val_auc_3: 0.6032 - val_false_negatives_3: 23.0000 - val_false_positives_3: 2.0000 - val_loss: 0.9016 - val_true_negatives_3: 19.0000 - val_true_positives_3: 4.0000\n",
            "Epoch 4/100\n",
            "\u001b[1m28/28\u001b[0m \u001b[32m━━━━━━━━━━━━━━━━━━━━\u001b[0m\u001b[37m\u001b[0m \u001b[1m2s\u001b[0m 14ms/step - accuracy: 0.5625 - auc_3: 0.6667 - false_negatives_3: 7.0000 - false_positives_3: 0.0000e+00 - loss: 0.8415 - true_negatives_3: 9.0000 - true_positives_3: 0.0000e+00 - val_accuracy: 0.6667 - val_auc_3: 0.5000 - val_false_negatives_3: 1.0000 - val_false_positives_3: 0.0000e+00 - val_loss: 0.7893 - val_true_negatives_3: 2.0000 - val_true_positives_3: 0.0000e+00\n",
            "Epoch 5/100\n",
            "\u001b[1m28/28\u001b[0m \u001b[32m━━━━━━━━━━━━━━━━━━━━\u001b[0m\u001b[37m\u001b[0m \u001b[1m50s\u001b[0m 2s/step - accuracy: 0.6948 - auc_3: 0.6847 - false_negatives_3: 65.0345 - false_positives_3: 7.5862 - loss: 0.7575 - true_negatives_3: 146.2069 - true_positives_3: 16.8276 - val_accuracy: 0.4792 - val_auc_3: 0.6286 - val_false_negatives_3: 22.0000 - val_false_positives_3: 3.0000 - val_loss: 0.8207 - val_true_negatives_3: 17.0000 - val_true_positives_3: 6.0000\n",
            "Epoch 6/100\n",
            "\u001b[1m28/28\u001b[0m \u001b[32m━━━━━━━━━━━━━━━━━━━━\u001b[0m\u001b[37m\u001b[0m \u001b[1m3s\u001b[0m 74ms/step - accuracy: 0.5625 - auc_3: 0.4762 - false_negatives_3: 5.0000 - false_positives_3: 2.0000 - loss: 0.8313 - true_negatives_3: 7.0000 - true_positives_3: 2.0000 - val_accuracy: 1.0000 - val_auc_3: 0.0000e+00 - val_false_negatives_3: 0.0000e+00 - val_false_positives_3: 0.0000e+00 - val_loss: 0.6925 - val_true_negatives_3: 3.0000 - val_true_positives_3: 0.0000e+00\n",
            "Epoch 7/100\n"
          ]
        }
      ],
      "source": [
        "# Initialize the model\n",
        "model = Sequential()\n",
        "\n",
        "# Add regularization to the convolutional layers and include dropout layers\n",
        "model.add(Conv2D(32, (5,5), activation='relu', padding='same', input_shape=(256,256,3), kernel_regularizer=l2(0.001)))\n",
        "model.add(MaxPooling2D(3, 3))\n",
        "\n",
        "model.add(Conv2D(64, (3,3), activation='relu', padding='same', kernel_regularizer=l2(0.001)))\n",
        "model.add(MaxPooling2D(3, 3))\n",
        "model.add(Dropout(0.25))\n",
        "\n",
        "model.add(Conv2D(128, (3,3), activation='relu', padding='same', kernel_regularizer=l2(0.001)))\n",
        "model.add(MaxPooling2D(3, 3))\n",
        "model.add(Dropout(0.25))\n",
        "\n",
        "\n",
        "model.add(Flatten())\n",
        "\n",
        "model.add(Dense(128, activation='relu', kernel_regularizer=l2(0.001)))\n",
        "model.add(Dropout(0.5))  # Add dropout after the dense layer\n",
        "\n",
        "# Output layer\n",
        "model.add(Dense(1, activation='sigmoid'))\n",
        "\n",
        "# Compile the model\n",
        "model.compile(optimizer='adam', loss='binary_crossentropy',\n",
        "              metrics=['accuracy', AUC(), TruePositives(), TrueNegatives(), FalsePositives(), FalseNegatives()])\n",
        "\n",
        "# Model summary\n",
        "model.summary()\n",
        "\n",
        "# Add EarlyStopping when the validation loss starts increasing\n",
        "early_stopping = EarlyStopping(monitor='val_loss', patience=5, restore_best_weights=True)\n",
        "\n",
        "# Train the model\n",
        "history = model.fit(\n",
        "    train_dataset,\n",
        "    steps_per_epoch=train_dataset.samples // train_dataset.batch_size,\n",
        "    epochs=100,\n",
        "    validation_data=test_dataset,\n",
        "    validation_steps=test_dataset.samples // test_dataset.batch_size,\n",
        "    callbacks=[early_stopping])\n"
      ]
    },
    {
      "cell_type": "code",
      "execution_count": null,
      "id": "818a3e80",
      "metadata": {
        "id": "818a3e80"
      },
      "outputs": [],
      "source": [
        "# Print final accuracy and loss\n",
        "final_train_accuracy = history.history['accuracy'][-1]\n",
        "final_train_loss = history.history['loss'][-1]\n",
        "final_val_accuracy = history.history['val_accuracy'][-1]\n",
        "final_val_loss = history.history['val_loss'][-1]\n",
        "\n",
        "print(f\"Final Training Accuracy: {final_train_accuracy}\")\n",
        "print(f\"Final Training Loss: {final_train_loss}\")\n",
        "print(f\"Final Validation Accuracy: {final_val_accuracy}\")\n",
        "print(f\"Final Validation Loss: {final_val_loss}\")\n"
      ]
    },
    {
      "cell_type": "code",
      "execution_count": null,
      "id": "41d82bff",
      "metadata": {
        "id": "41d82bff"
      },
      "outputs": [],
      "source": [
        "import matplotlib.pyplot as plt\n",
        "\n",
        "# Plot for accuracy\n",
        "plt.figure(figsize=(10, 5))\n",
        "plt.subplot(1, 2, 1)\n",
        "plt.plot(history.history['accuracy'], label='Training Accuracy')\n",
        "plt.plot(history.history['val_accuracy'], label='Validation Accuracy')\n",
        "plt.title('Training and Validation Accuracy')\n",
        "plt.xlabel('Epoch')\n",
        "plt.ylabel('Accuracy')\n",
        "plt.legend()\n",
        "\n",
        "# Plot for loss\n",
        "plt.subplot(1, 2, 2)\n",
        "plt.plot(history.history['loss'], label='Training Loss')\n",
        "plt.plot(history.history['val_loss'], label='Validation Loss')\n",
        "plt.title('Training and Validation Loss')\n",
        "plt.xlabel('Epoch')\n",
        "plt.ylabel('Loss')\n",
        "plt.legend()\n",
        "\n",
        "plt.tight_layout()\n",
        "plt.show()\n"
      ]
    },
    {
      "cell_type": "code",
      "execution_count": null,
      "id": "2c4ee03b",
      "metadata": {
        "id": "2c4ee03b"
      },
      "outputs": [],
      "source": [
        "model.save('C:/Users/alan/Medical Image Project/CNN model.h5')"
      ]
    },
    {
      "cell_type": "code",
      "execution_count": null,
      "id": "0602e3e9",
      "metadata": {
        "id": "0602e3e9"
      },
      "outputs": [],
      "source": []
    }
  ],
  "metadata": {
    "kernelspec": {
      "display_name": "Python 3 (ipykernel)",
      "language": "python",
      "name": "python3"
    },
    "language_info": {
      "codemirror_mode": {
        "name": "ipython",
        "version": 3
      },
      "file_extension": ".py",
      "mimetype": "text/x-python",
      "name": "python",
      "nbconvert_exporter": "python",
      "pygments_lexer": "ipython3",
      "version": "3.9.13"
    },
    "colab": {
      "provenance": [],
      "include_colab_link": true
    }
  },
  "nbformat": 4,
  "nbformat_minor": 5
}