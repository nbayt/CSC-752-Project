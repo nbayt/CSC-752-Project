{
 "cells": [
  {
   "cell_type": "code",
   "execution_count": 15,
   "id": "19112a75",
   "metadata": {},
   "outputs": [],
   "source": [
    "from transformers import CLIPProcessor, CLIPModel\n",
    "import pandas as pd\n",
    "from PIL import Image\n",
    "import os\n",
    "import torch\n",
    "from sklearn.preprocessing import LabelEncoder\n",
    "from sklearn.model_selection import train_test_split\n",
    "from tensorflow.keras.layers import Dropout, BatchNormalization\n",
    "\n",
    "import numpy as np\n",
    "from sklearn.metrics import accuracy_score, confusion_matrix\n",
    "from tensorflow.keras.models import Sequential \n",
    "from tensorflow.keras.layers import Dense\n",
    "import matplotlib.pyplot as plt\n"
   ]
  },
  {
   "cell_type": "code",
   "execution_count": 2,
   "id": "3691c3a2",
   "metadata": {},
   "outputs": [],
   "source": [
    "#file_path = \"C:\\\\Users\\\\alan\\\\Medical Image Project\\\\combine_data\\\\BrEaST-Lesions-USG-clinical-data-Dec-15-2023.xlsx\"\n",
    "file_path = \"BrEaST-Lesions-USG-clinical-data-Dec-15-2023.xlsx\"\n",
    "text_data = pd.read_excel(file_path)"
   ]
  },
  {
   "cell_type": "code",
   "execution_count": 3,
   "id": "6b114c74",
   "metadata": {},
   "outputs": [
    {
     "data": {
      "text/plain": [
       "(256, 21)"
      ]
     },
     "execution_count": 3,
     "metadata": {},
     "output_type": "execute_result"
    }
   ],
   "source": [
    "text_data.shape"
   ]
  },
  {
   "cell_type": "code",
   "execution_count": 4,
   "id": "c39446f1",
   "metadata": {},
   "outputs": [
    {
     "data": {
      "text/html": [
       "<div>\n",
       "<style scoped>\n",
       "    .dataframe tbody tr th:only-of-type {\n",
       "        vertical-align: middle;\n",
       "    }\n",
       "\n",
       "    .dataframe tbody tr th {\n",
       "        vertical-align: top;\n",
       "    }\n",
       "\n",
       "    .dataframe thead th {\n",
       "        text-align: right;\n",
       "    }\n",
       "</style>\n",
       "<table border=\"1\" class=\"dataframe\">\n",
       "  <thead>\n",
       "    <tr style=\"text-align: right;\">\n",
       "      <th></th>\n",
       "      <th>CaseID</th>\n",
       "      <th>Image_filename</th>\n",
       "      <th>Mask_tumor_filename</th>\n",
       "      <th>Mask_other_filename</th>\n",
       "      <th>Pixel_size</th>\n",
       "      <th>Age</th>\n",
       "      <th>Tissue_composition</th>\n",
       "      <th>Signs</th>\n",
       "      <th>Symptoms</th>\n",
       "      <th>Shape</th>\n",
       "      <th>...</th>\n",
       "      <th>Posterior_features</th>\n",
       "      <th>Halo</th>\n",
       "      <th>Calcifications</th>\n",
       "      <th>Skin_thickening</th>\n",
       "      <th>Interpretation</th>\n",
       "      <th>BIRADS</th>\n",
       "      <th>Verification</th>\n",
       "      <th>Diagnosis</th>\n",
       "      <th>Classification</th>\n",
       "      <th>combined_text</th>\n",
       "    </tr>\n",
       "  </thead>\n",
       "  <tbody>\n",
       "    <tr>\n",
       "      <th>0</th>\n",
       "      <td>1</td>\n",
       "      <td>case001.png</td>\n",
       "      <td>case001_tumor.png</td>\n",
       "      <td>NaN</td>\n",
       "      <td>0.007812</td>\n",
       "      <td>57</td>\n",
       "      <td>heterogeneous: predominantly fat</td>\n",
       "      <td>breast scar</td>\n",
       "      <td>family history of breast/ovarian cancer</td>\n",
       "      <td>irregular</td>\n",
       "      <td>...</td>\n",
       "      <td>shadowing</td>\n",
       "      <td>no</td>\n",
       "      <td>no</td>\n",
       "      <td>yes</td>\n",
       "      <td>Breast scar (surgery)&amp;Breast scar (radiotherapy)</td>\n",
       "      <td>2</td>\n",
       "      <td>confirmed by follow-up care</td>\n",
       "      <td>not applicable</td>\n",
       "      <td>benign</td>\n",
       "      <td>1 57 heterogeneous: predominantly fat breast s...</td>\n",
       "    </tr>\n",
       "    <tr>\n",
       "      <th>2</th>\n",
       "      <td>3</td>\n",
       "      <td>case003.png</td>\n",
       "      <td>case003_tumor.png</td>\n",
       "      <td>NaN</td>\n",
       "      <td>0.006944</td>\n",
       "      <td>56</td>\n",
       "      <td>heterogeneous: predominantly fat</td>\n",
       "      <td>no</td>\n",
       "      <td>nipple discharge</td>\n",
       "      <td>oval</td>\n",
       "      <td>...</td>\n",
       "      <td>no</td>\n",
       "      <td>no</td>\n",
       "      <td>no</td>\n",
       "      <td>no</td>\n",
       "      <td>Duct filled with thick fluid&amp;Intraductal papil...</td>\n",
       "      <td>4a</td>\n",
       "      <td>confirmed by biopsy</td>\n",
       "      <td>Usual ductal hyperplasia (UDH)&amp;Pseudoangiomato...</td>\n",
       "      <td>benign</td>\n",
       "      <td>3 56 heterogeneous: predominantly fat no nippl...</td>\n",
       "    </tr>\n",
       "    <tr>\n",
       "      <th>3</th>\n",
       "      <td>4</td>\n",
       "      <td>case004.png</td>\n",
       "      <td>case004_tumor.png</td>\n",
       "      <td>NaN</td>\n",
       "      <td>0.007812</td>\n",
       "      <td>43</td>\n",
       "      <td>homogeneous: fibroglandular</td>\n",
       "      <td>no</td>\n",
       "      <td>no</td>\n",
       "      <td>round</td>\n",
       "      <td>...</td>\n",
       "      <td>no</td>\n",
       "      <td>no</td>\n",
       "      <td>no</td>\n",
       "      <td>no</td>\n",
       "      <td>Cyst filled with thick fluid</td>\n",
       "      <td>3</td>\n",
       "      <td>confirmed by follow-up care</td>\n",
       "      <td>not applicable</td>\n",
       "      <td>benign</td>\n",
       "      <td>4 43 homogeneous: fibroglandular no no round c...</td>\n",
       "    </tr>\n",
       "    <tr>\n",
       "      <th>4</th>\n",
       "      <td>5</td>\n",
       "      <td>case005.png</td>\n",
       "      <td>case005_tumor.png</td>\n",
       "      <td>NaN</td>\n",
       "      <td>0.007812</td>\n",
       "      <td>67</td>\n",
       "      <td>homogeneous: fat</td>\n",
       "      <td>nipple retraction&amp;palpable</td>\n",
       "      <td>family history of breast/ovarian cancer</td>\n",
       "      <td>oval</td>\n",
       "      <td>...</td>\n",
       "      <td>enhancement</td>\n",
       "      <td>no</td>\n",
       "      <td>no</td>\n",
       "      <td>no</td>\n",
       "      <td>Suspicion of malignancy&amp;Intraductal papilloma</td>\n",
       "      <td>4b</td>\n",
       "      <td>confirmed by biopsy</td>\n",
       "      <td>Encapsulated papillary carcinoma&amp;Ductal carcin...</td>\n",
       "      <td>malignant</td>\n",
       "      <td>5 67 homogeneous: fat nipple retraction&amp;palpab...</td>\n",
       "    </tr>\n",
       "    <tr>\n",
       "      <th>5</th>\n",
       "      <td>6</td>\n",
       "      <td>case006.png</td>\n",
       "      <td>case006_tumor.png</td>\n",
       "      <td>NaN</td>\n",
       "      <td>0.007812</td>\n",
       "      <td>56</td>\n",
       "      <td>heterogeneous: predominantly fat</td>\n",
       "      <td>no</td>\n",
       "      <td>HRT/hormonal contraception</td>\n",
       "      <td>irregular</td>\n",
       "      <td>...</td>\n",
       "      <td>no</td>\n",
       "      <td>no</td>\n",
       "      <td>intraductal</td>\n",
       "      <td>no</td>\n",
       "      <td>Suspicion of malignancy&amp;Intraductal papilloma&amp;...</td>\n",
       "      <td>4b</td>\n",
       "      <td>confirmed by biopsy</td>\n",
       "      <td>Fibrosclerosis</td>\n",
       "      <td>benign</td>\n",
       "      <td>6 56 heterogeneous: predominantly fat no HRT/h...</td>\n",
       "    </tr>\n",
       "    <tr>\n",
       "      <th>6</th>\n",
       "      <td>7</td>\n",
       "      <td>case007.png</td>\n",
       "      <td>case007_tumor.png</td>\n",
       "      <td>NaN</td>\n",
       "      <td>0.007812</td>\n",
       "      <td>52</td>\n",
       "      <td>heterogeneous: predominantly fat</td>\n",
       "      <td>palpable</td>\n",
       "      <td>not available</td>\n",
       "      <td>irregular</td>\n",
       "      <td>...</td>\n",
       "      <td>shadowing</td>\n",
       "      <td>no</td>\n",
       "      <td>no</td>\n",
       "      <td>no</td>\n",
       "      <td>Suspicion of malignancy</td>\n",
       "      <td>5</td>\n",
       "      <td>confirmed by biopsy</td>\n",
       "      <td>Invasive carcinoma of no special type (NST)</td>\n",
       "      <td>malignant</td>\n",
       "      <td>7 52 heterogeneous: predominantly fat palpable...</td>\n",
       "    </tr>\n",
       "    <tr>\n",
       "      <th>8</th>\n",
       "      <td>9</td>\n",
       "      <td>case009.png</td>\n",
       "      <td>case009_tumor.png</td>\n",
       "      <td>NaN</td>\n",
       "      <td>0.010355</td>\n",
       "      <td>76</td>\n",
       "      <td>heterogeneous: predominantly fibroglandular</td>\n",
       "      <td>no</td>\n",
       "      <td>not available</td>\n",
       "      <td>irregular</td>\n",
       "      <td>...</td>\n",
       "      <td>no</td>\n",
       "      <td>no</td>\n",
       "      <td>no</td>\n",
       "      <td>no</td>\n",
       "      <td>Suspicion of malignancy&amp;Dysplasia</td>\n",
       "      <td>4b</td>\n",
       "      <td>confirmed by biopsy</td>\n",
       "      <td>Fibrosclerosis</td>\n",
       "      <td>benign</td>\n",
       "      <td>9 76 heterogeneous: predominantly fibroglandul...</td>\n",
       "    </tr>\n",
       "    <tr>\n",
       "      <th>9</th>\n",
       "      <td>10</td>\n",
       "      <td>case010.png</td>\n",
       "      <td>case010_tumor.png</td>\n",
       "      <td>NaN</td>\n",
       "      <td>0.010780</td>\n",
       "      <td>34</td>\n",
       "      <td>not available</td>\n",
       "      <td>not available</td>\n",
       "      <td>not available</td>\n",
       "      <td>irregular</td>\n",
       "      <td>...</td>\n",
       "      <td>enhancement</td>\n",
       "      <td>yes</td>\n",
       "      <td>no</td>\n",
       "      <td>no</td>\n",
       "      <td>Suspicion of malignancy&amp;Dysplasia&amp;Fibroadenoma...</td>\n",
       "      <td>4c</td>\n",
       "      <td>confirmed by biopsy</td>\n",
       "      <td>Invasive carcinoma of no special type (NST)&amp;Du...</td>\n",
       "      <td>malignant</td>\n",
       "      <td>10 34 not available not available not availabl...</td>\n",
       "    </tr>\n",
       "    <tr>\n",
       "      <th>10</th>\n",
       "      <td>11</td>\n",
       "      <td>case011.png</td>\n",
       "      <td>case011_tumor.png</td>\n",
       "      <td>NaN</td>\n",
       "      <td>0.008681</td>\n",
       "      <td>70</td>\n",
       "      <td>heterogeneous: predominantly fibroglandular</td>\n",
       "      <td>palpable</td>\n",
       "      <td>family history of breast/ovarian cancer</td>\n",
       "      <td>irregular</td>\n",
       "      <td>...</td>\n",
       "      <td>shadowing</td>\n",
       "      <td>no</td>\n",
       "      <td>no</td>\n",
       "      <td>no</td>\n",
       "      <td>Suspicion of malignancy</td>\n",
       "      <td>4c</td>\n",
       "      <td>confirmed by biopsy</td>\n",
       "      <td>Invasive carcinoma of no special type (NST)</td>\n",
       "      <td>malignant</td>\n",
       "      <td>11 70 heterogeneous: predominantly fibroglandu...</td>\n",
       "    </tr>\n",
       "    <tr>\n",
       "      <th>11</th>\n",
       "      <td>12</td>\n",
       "      <td>case012.png</td>\n",
       "      <td>case012_tumor.png</td>\n",
       "      <td>NaN</td>\n",
       "      <td>0.010780</td>\n",
       "      <td>74</td>\n",
       "      <td>not available</td>\n",
       "      <td>not available</td>\n",
       "      <td>not available</td>\n",
       "      <td>irregular</td>\n",
       "      <td>...</td>\n",
       "      <td>enhancement</td>\n",
       "      <td>yes</td>\n",
       "      <td>no</td>\n",
       "      <td>no</td>\n",
       "      <td>Suspicion of malignancy&amp;Fibroadenoma&amp;Intraduct...</td>\n",
       "      <td>5</td>\n",
       "      <td>confirmed by biopsy</td>\n",
       "      <td>Invasive carcinoma of no special type (NST)&amp;In...</td>\n",
       "      <td>malignant</td>\n",
       "      <td>12 74 not available not available not availabl...</td>\n",
       "    </tr>\n",
       "  </tbody>\n",
       "</table>\n",
       "<p>10 rows × 22 columns</p>\n",
       "</div>"
      ],
      "text/plain": [
       "    CaseID Image_filename Mask_tumor_filename Mask_other_filename  Pixel_size  \\\n",
       "0        1    case001.png   case001_tumor.png                 NaN    0.007812   \n",
       "2        3    case003.png   case003_tumor.png                 NaN    0.006944   \n",
       "3        4    case004.png   case004_tumor.png                 NaN    0.007812   \n",
       "4        5    case005.png   case005_tumor.png                 NaN    0.007812   \n",
       "5        6    case006.png   case006_tumor.png                 NaN    0.007812   \n",
       "6        7    case007.png   case007_tumor.png                 NaN    0.007812   \n",
       "8        9    case009.png   case009_tumor.png                 NaN    0.010355   \n",
       "9       10    case010.png   case010_tumor.png                 NaN    0.010780   \n",
       "10      11    case011.png   case011_tumor.png                 NaN    0.008681   \n",
       "11      12    case012.png   case012_tumor.png                 NaN    0.010780   \n",
       "\n",
       "   Age                           Tissue_composition  \\\n",
       "0   57             heterogeneous: predominantly fat   \n",
       "2   56             heterogeneous: predominantly fat   \n",
       "3   43                  homogeneous: fibroglandular   \n",
       "4   67                             homogeneous: fat   \n",
       "5   56             heterogeneous: predominantly fat   \n",
       "6   52             heterogeneous: predominantly fat   \n",
       "8   76  heterogeneous: predominantly fibroglandular   \n",
       "9   34                                not available   \n",
       "10  70  heterogeneous: predominantly fibroglandular   \n",
       "11  74                                not available   \n",
       "\n",
       "                         Signs                                 Symptoms  \\\n",
       "0                  breast scar  family history of breast/ovarian cancer   \n",
       "2                           no                         nipple discharge   \n",
       "3                           no                                       no   \n",
       "4   nipple retraction&palpable  family history of breast/ovarian cancer   \n",
       "5                           no               HRT/hormonal contraception   \n",
       "6                     palpable                            not available   \n",
       "8                           no                            not available   \n",
       "9                not available                            not available   \n",
       "10                    palpable  family history of breast/ovarian cancer   \n",
       "11               not available                            not available   \n",
       "\n",
       "        Shape  ... Posterior_features Halo Calcifications Skin_thickening  \\\n",
       "0   irregular  ...          shadowing   no             no             yes   \n",
       "2        oval  ...                 no   no             no              no   \n",
       "3       round  ...                 no   no             no              no   \n",
       "4        oval  ...        enhancement   no             no              no   \n",
       "5   irregular  ...                 no   no    intraductal              no   \n",
       "6   irregular  ...          shadowing   no             no              no   \n",
       "8   irregular  ...                 no   no             no              no   \n",
       "9   irregular  ...        enhancement  yes             no              no   \n",
       "10  irregular  ...          shadowing   no             no              no   \n",
       "11  irregular  ...        enhancement  yes             no              no   \n",
       "\n",
       "                                       Interpretation BIRADS  \\\n",
       "0    Breast scar (surgery)&Breast scar (radiotherapy)      2   \n",
       "2   Duct filled with thick fluid&Intraductal papil...     4a   \n",
       "3                        Cyst filled with thick fluid      3   \n",
       "4       Suspicion of malignancy&Intraductal papilloma     4b   \n",
       "5   Suspicion of malignancy&Intraductal papilloma&...     4b   \n",
       "6                             Suspicion of malignancy      5   \n",
       "8                   Suspicion of malignancy&Dysplasia     4b   \n",
       "9   Suspicion of malignancy&Dysplasia&Fibroadenoma...     4c   \n",
       "10                            Suspicion of malignancy     4c   \n",
       "11  Suspicion of malignancy&Fibroadenoma&Intraduct...      5   \n",
       "\n",
       "                   Verification  \\\n",
       "0   confirmed by follow-up care   \n",
       "2           confirmed by biopsy   \n",
       "3   confirmed by follow-up care   \n",
       "4           confirmed by biopsy   \n",
       "5           confirmed by biopsy   \n",
       "6           confirmed by biopsy   \n",
       "8           confirmed by biopsy   \n",
       "9           confirmed by biopsy   \n",
       "10          confirmed by biopsy   \n",
       "11          confirmed by biopsy   \n",
       "\n",
       "                                            Diagnosis Classification  \\\n",
       "0                                      not applicable         benign   \n",
       "2   Usual ductal hyperplasia (UDH)&Pseudoangiomato...         benign   \n",
       "3                                      not applicable         benign   \n",
       "4   Encapsulated papillary carcinoma&Ductal carcin...      malignant   \n",
       "5                                      Fibrosclerosis         benign   \n",
       "6         Invasive carcinoma of no special type (NST)      malignant   \n",
       "8                                      Fibrosclerosis         benign   \n",
       "9   Invasive carcinoma of no special type (NST)&Du...      malignant   \n",
       "10        Invasive carcinoma of no special type (NST)      malignant   \n",
       "11  Invasive carcinoma of no special type (NST)&In...      malignant   \n",
       "\n",
       "                                        combined_text  \n",
       "0   1 57 heterogeneous: predominantly fat breast s...  \n",
       "2   3 56 heterogeneous: predominantly fat no nippl...  \n",
       "3   4 43 homogeneous: fibroglandular no no round c...  \n",
       "4   5 67 homogeneous: fat nipple retraction&palpab...  \n",
       "5   6 56 heterogeneous: predominantly fat no HRT/h...  \n",
       "6   7 52 heterogeneous: predominantly fat palpable...  \n",
       "8   9 76 heterogeneous: predominantly fibroglandul...  \n",
       "9   10 34 not available not available not availabl...  \n",
       "10  11 70 heterogeneous: predominantly fibroglandu...  \n",
       "11  12 74 not available not available not availabl...  \n",
       "\n",
       "[10 rows x 22 columns]"
      ]
     },
     "execution_count": 4,
     "metadata": {},
     "output_type": "execute_result"
    }
   ],
   "source": [
    "\n",
    "# filter out normal rows\n",
    "filtered_text_data = text_data[(text_data['Classification'] == 'benign') | (text_data['Classification'] == 'malignant')]\n",
    "\n",
    "# Remove rows where Age is 'not available'\n",
    "filtered_text_data = filtered_text_data[filtered_text_data['Age'] != 'not available']\n",
    "\n",
    "# combine the relevant columns into a single text field per case\n",
    "text_columns = [col for col in filtered_text_data.columns if col not in ['Image_filename', 'Classification', \"Mask_tumor_filename\",\"Mask_other_filename\", \"Pixel_size\", \"Verification\",\"BIRADS\"]]\n",
    "filtered_text_data['combined_text'] = filtered_text_data[text_columns].apply(lambda x: ' '.join(x.dropna().astype(str)), axis=1)\n",
    "\n",
    "# Show preview of data\n",
    "filtered_text_data.head(10)"
   ]
  },
  {
   "cell_type": "code",
   "execution_count": 5,
   "id": "8eaf3519",
   "metadata": {},
   "outputs": [
    {
     "name": "stderr",
     "output_type": "stream",
     "text": [
      "c:\\Users\\nickb\\anaconda3\\envs\\csc-752-final-project\\lib\\site-packages\\huggingface_hub\\file_download.py:1150: FutureWarning: `resume_download` is deprecated and will be removed in version 1.0.0. Downloads always resume when possible. If you want to force a new download, use `force_download=True`.\n",
      "  warnings.warn(\n",
      "c:\\Users\\nickb\\anaconda3\\envs\\csc-752-final-project\\lib\\site-packages\\transformers\\modeling_utils.py:479: FutureWarning: You are using `torch.load` with `weights_only=False` (the current default value), which uses the default pickle module implicitly. It is possible to construct malicious pickle data which will execute arbitrary code during unpickling (See https://github.com/pytorch/pytorch/blob/main/SECURITY.md#untrusted-models for more details). In a future release, the default value for `weights_only` will be flipped to `True`. This limits the functions that could be executed during unpickling. Arbitrary objects will no longer be allowed to be loaded via this mode unless they are explicitly allowlisted by the user via `torch.serialization.add_safe_globals`. We recommend you start setting `weights_only=True` for any use case where you don't have full control of the loaded file. Please open an issue on GitHub for any issues related to this experimental feature.\n",
      "  return torch.load(checkpoint_file, map_location=map_location)\n"
     ]
    }
   ],
   "source": [
    "model_name = \"openai/clip-vit-base-patch32\"\n",
    "processor = CLIPProcessor.from_pretrained(model_name)\n",
    "model = CLIPModel.from_pretrained(model_name)\n",
    "\n",
    "text_inputs = processor(text=filtered_text_data[\"combined_text\"].tolist(), padding=True, truncation=True, return_tensors=\"pt\")\n"
   ]
  },
  {
   "cell_type": "code",
   "execution_count": 6,
   "id": "c6a09be6",
   "metadata": {},
   "outputs": [],
   "source": [
    "text_embeddings = model.get_text_features(**text_inputs)"
   ]
  },
  {
   "cell_type": "code",
   "execution_count": 7,
   "id": "80eeba89",
   "metadata": {},
   "outputs": [
    {
     "data": {
      "text/plain": [
       "torch.Size([211, 512])"
      ]
     },
     "execution_count": 7,
     "metadata": {},
     "output_type": "execute_result"
    }
   ],
   "source": [
    "text_embeddings.shape"
   ]
  },
  {
   "cell_type": "code",
   "execution_count": 8,
   "id": "deece36d",
   "metadata": {},
   "outputs": [],
   "source": [
    "# image feature extraction\n",
    "def get_image_embedding(image_path, processor, model):\n",
    "    # Load and process the image\n",
    "    image = Image.open(image_path).convert(\"RGB\")\n",
    "    inputs = processor(images=image, return_tensors=\"pt\")\n",
    "    \n",
    "    # Generate embedding\n",
    "    with torch.no_grad():  # Ensure no gradients are calculated\n",
    "        image_embedding = model.get_image_features(**inputs)\n",
    "    \n",
    "    return image_embedding\n"
   ]
  },
  {
   "cell_type": "code",
   "execution_count": 9,
   "id": "70f1a7a5",
   "metadata": {},
   "outputs": [],
   "source": [
    "# Initialize an empty list to hold image embeddings\n",
    "image_embeddings = []\n",
    "\n",
    "# Base path for images\n",
    "base_path = \"BrEaST-Lesions_USG-images_and_masks/\"\n",
    "\n",
    "# Loop through each row in the DataFrame\n",
    "for filename in filtered_text_data['Image_filename']:\n",
    "    image_path = os.path.join(base_path, filename)\n",
    "    embedding = get_image_embedding(image_path, processor, model)\n",
    "    image_embeddings.append(embedding)\n",
    "\n",
    "# Convert the list of embeddings into a tensor (or any format you prefer)\n",
    "image_embeddings_tensor = torch.stack(image_embeddings)\n"
   ]
  },
  {
   "cell_type": "code",
   "execution_count": 10,
   "id": "67d167e5",
   "metadata": {},
   "outputs": [
    {
     "name": "stdout",
     "output_type": "stream",
     "text": [
      "torch.Size([211, 512])\n",
      "torch.Size([211, 512])\n"
     ]
    }
   ],
   "source": [
    "# convert both embedding into same demision\n",
    "image_embeddings_tensor = image_embeddings_tensor.squeeze(-1)  # Squeeze the last dimension if it's extraneous\n",
    "\n",
    "image_embeddings_tensor = image_embeddings_tensor.view(image_embeddings_tensor.shape[0], -1)  # Flatten to [number_of_samples, image_feature_size * some_other_dimension]\n",
    "\n",
    "# Now try concatenating again\n",
    "combined_embeddings = torch.cat((text_embeddings, image_embeddings_tensor), dim=1)\n",
    "print(text_embeddings.shape)\n",
    "print(image_embeddings_tensor.shape)"
   ]
  },
  {
   "cell_type": "code",
   "execution_count": 11,
   "id": "fe4a964c",
   "metadata": {},
   "outputs": [
    {
     "name": "stdout",
     "output_type": "stream",
     "text": [
      "torch.Size([211, 1024])\n"
     ]
    }
   ],
   "source": [
    "\n",
    "print(combined_embeddings.shape)"
   ]
  },
  {
   "cell_type": "code",
   "execution_count": 12,
   "id": "d9b2cd10",
   "metadata": {},
   "outputs": [],
   "source": [
    "# add label\n",
    "labels = filtered_text_data['Classification'].values\n",
    "label_encoder = LabelEncoder()\n",
    "encoded_labels = label_encoder.fit_transform(labels)  # Converts labels to numerical format\n"
   ]
  },
  {
   "cell_type": "code",
   "execution_count": 13,
   "id": "e3d9d729",
   "metadata": {},
   "outputs": [
    {
     "data": {
      "text/plain": [
       "array([0, 0, 0, 1, 0, 1, 0, 1, 1, 1, 1, 0, 0, 0, 0, 0, 0, 0, 0, 0, 0, 0,\n",
       "       0, 1, 1, 0, 0, 0, 0, 1, 1, 1, 0, 0, 0, 0, 0, 1, 0, 0, 1, 0, 1, 0,\n",
       "       1, 0, 1, 0, 1, 0, 1, 0, 0, 1, 1, 0, 0, 0, 0, 1, 0, 0, 1, 1, 0, 0,\n",
       "       1, 0, 0, 1, 0, 0, 0, 1, 1, 1, 1, 0, 0, 1, 0, 0, 0, 1, 0, 1, 1, 1,\n",
       "       0, 1, 1, 1, 0, 1, 0, 1, 1, 1, 0, 0, 1, 0, 0, 0, 1, 0, 0, 1, 0, 1,\n",
       "       1, 0, 1, 1, 1, 0, 0, 0, 0, 0, 0, 0, 1, 1, 0, 1, 1, 1, 1, 0, 0, 1,\n",
       "       1, 0, 0, 1, 0, 0, 0, 0, 1, 0, 0, 0, 0, 0, 1, 1, 1, 0, 1, 0, 0, 0,\n",
       "       0, 0, 0, 0, 0, 0, 0, 0, 1, 0, 0, 0, 0, 1, 1, 0, 0, 0, 0, 1, 1, 0,\n",
       "       0, 1, 0, 0, 0, 1, 1, 0, 1, 0, 0, 0, 1, 1, 1, 1, 0, 0, 1, 0, 0, 1,\n",
       "       1, 0, 0, 1, 1, 1, 1, 1, 0, 0, 1, 1, 0])"
      ]
     },
     "execution_count": 13,
     "metadata": {},
     "output_type": "execute_result"
    }
   ],
   "source": [
    "encoded_labels"
   ]
  },
  {
   "cell_type": "code",
   "execution_count": 17,
   "id": "30e1d5fc",
   "metadata": {},
   "outputs": [
    {
     "name": "stdout",
     "output_type": "stream",
     "text": [
      "Epoch 1/10\n",
      "4/4 [==============================] - 1s 97ms/step - loss: 0.6826 - accuracy: 0.6200 - val_loss: 0.6014 - val_accuracy: 0.6324\n",
      "Epoch 2/10\n",
      "4/4 [==============================] - 0s 11ms/step - loss: 0.5219 - accuracy: 0.7900 - val_loss: 0.5596 - val_accuracy: 0.6324\n",
      "Epoch 3/10\n",
      "4/4 [==============================] - 0s 34ms/step - loss: 0.4814 - accuracy: 0.8400 - val_loss: 0.5074 - val_accuracy: 0.6471\n",
      "Epoch 4/10\n",
      "4/4 [==============================] - 0s 40ms/step - loss: 0.4202 - accuracy: 0.8500 - val_loss: 0.4584 - val_accuracy: 0.6912\n",
      "Epoch 5/10\n",
      "4/4 [==============================] - 0s 11ms/step - loss: 0.3799 - accuracy: 0.8300 - val_loss: 0.3937 - val_accuracy: 0.8235\n",
      "Epoch 6/10\n",
      "4/4 [==============================] - 0s 11ms/step - loss: 0.2889 - accuracy: 0.9700 - val_loss: 0.3415 - val_accuracy: 0.9265\n",
      "Epoch 7/10\n",
      "4/4 [==============================] - 0s 12ms/step - loss: 0.2649 - accuracy: 0.9400 - val_loss: 0.2990 - val_accuracy: 0.9559\n",
      "Epoch 8/10\n",
      "4/4 [==============================] - 0s 11ms/step - loss: 0.2327 - accuracy: 0.9400 - val_loss: 0.2678 - val_accuracy: 0.9706\n",
      "Epoch 9/10\n",
      "4/4 [==============================] - 0s 12ms/step - loss: 0.2283 - accuracy: 0.9300 - val_loss: 0.2363 - val_accuracy: 0.9853\n",
      "Epoch 10/10\n",
      "4/4 [==============================] - 0s 11ms/step - loss: 0.1488 - accuracy: 0.9900 - val_loss: 0.2106 - val_accuracy: 0.9853\n",
      "2/2 [==============================] - 0s 3ms/step - loss: 0.2496 - accuracy: 0.9302\n",
      "Test Loss: 0.24958983063697815\n",
      "Test Accuracy: 0.930232584476471\n"
     ]
    }
   ],
   "source": [
    "# split the data\n",
    "\n",
    "# Convert it to a NumPy array\n",
    "X = combined_embeddings.detach().numpy()\n",
    "\n",
    "# Split the data\n",
    "X_train, X_test, y_train, y_test = train_test_split(X, encoded_labels, test_size=0.2, random_state=42)\n",
    "\n",
    "model = Sequential([\n",
    "    Dense(128, activation='relu', input_dim=X_train.shape[1]),\n",
    "    Dropout(0.2),                 # Dropout layer for regularization\n",
    "    Dense(64, activation='relu'),\n",
    "    BatchNormalization(),         # BatchNormalization layer for normalization\n",
    "    Dense(32, activation='relu'),\n",
    "    Dense(1, activation='sigmoid')\n",
    "])\n",
    "\n",
    "# Compile the model\n",
    "model.compile(optimizer='adam', loss='binary_crossentropy', metrics=['accuracy'])\n",
    "\n",
    "# Train the model with validation data\n",
    "history = model.fit(X_train, y_train, epochs=10, batch_size=32, validation_split=0.4, verbose=1)\n",
    "\n",
    "# Evaluate the model on the test set\n",
    "test_loss, test_accuracy = model.evaluate(X_test, y_test, verbose=1)\n",
    "\n",
    "print(f\"Test Loss: {test_loss}\\nTest Accuracy: {test_accuracy}\")"
   ]
  },
  {
   "cell_type": "code",
   "execution_count": 18,
   "id": "3976211a",
   "metadata": {},
   "outputs": [
    {
     "data": {
      "image/png": "[encoded data removed]",
      "text/plain": [
       "<Figure size 640x480 with 1 Axes>"
      ]
     },
     "metadata": {},
     "output_type": "display_data"
    },
    {
     "data": {
      "image/png": "[encoded data removed]",
      "text/plain": [
       "<Figure size 640x480 with 1 Axes>"
      ]
     },
     "metadata": {},
     "output_type": "display_data"
    }
   ],
   "source": [
    "# Plot training and validation accuracy\n",
    "plt.plot(history.history['accuracy'], label='Training Accuracy')\n",
    "plt.plot(history.history['val_accuracy'], label='Validation Accuracy')\n",
    "plt.title('Model Training and Validation Accuracy')\n",
    "plt.ylabel('Accuracy')\n",
    "plt.xlabel('Epoch')\n",
    "plt.legend()\n",
    "plt.show()\n",
    "\n",
    "# Plot training and validation loss\n",
    "plt.plot(history.history['loss'], label='Training Loss')\n",
    "plt.plot(history.history['val_loss'], label='Validation Loss')\n",
    "plt.title('Model Training and Validation Loss')\n",
    "plt.ylabel('Loss')\n",
    "plt.xlabel('Epoch')\n",
    "plt.legend()\n",
    "plt.show()"
   ]
  },
  {
   "cell_type": "code",
   "execution_count": 21,
   "id": "d6c6cc5a",
   "metadata": {},
   "outputs": [
    {
     "name": "stdout",
     "output_type": "stream",
     "text": [
      "2/2 [==============================] - 0s 2ms/step\n"
     ]
    },
    {
     "data": {
      "text/plain": [
       "array([[15,  3],\n",
       "       [ 0, 25]], dtype=int64)"
      ]
     },
     "execution_count": 21,
     "metadata": {},
     "output_type": "execute_result"
    }
   ],
   "source": [
    "confusion_matrix(y_test, np.squeeze(model.predict(X_test)>0.5))"
   ]
  },
  {
   "cell_type": "code",
   "execution_count": 16,
   "id": "44974fa7",
   "metadata": {},
   "outputs": [
    {
     "data": {
      "text/plain": [
       "array([[0, 0],\n",
       "       [1, 2]], dtype=int64)"
      ]
     },
     "execution_count": 16,
     "metadata": {},
     "output_type": "execute_result"
    }
   ],
   "source": [
    "confusion_matrix([1,1,1],[1,0,1])"
   ]
  },
  {
   "cell_type": "code",
   "execution_count": null,
   "id": "efd19ce1",
   "metadata": {},
   "outputs": [],
   "source": []
  },
  {
   "cell_type": "code",
   "execution_count": null,
   "id": "c4824bf8",
   "metadata": {},
   "outputs": [],
   "source": []
  }
 ],
 "metadata": {
  "kernelspec": {
   "display_name": "csc-752-final-project",
   "language": "python",
   "name": "python3"
  },
  "language_info": {
   "codemirror_mode": {
    "name": "ipython",
    "version": 3
   },
   "file_extension": ".py",
   "mimetype": "text/x-python",
   "name": "python",
   "nbconvert_exporter": "python",
   "pygments_lexer": "ipython3",
   "version": "3.9.18"
  }
 },
 "nbformat": 4,
 "nbformat_minor": 5
}
